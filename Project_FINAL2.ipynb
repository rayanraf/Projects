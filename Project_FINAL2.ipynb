{
 "cells": [
  {
   "cell_type": "markdown",
   "id": "60ffda4b",
   "metadata": {},
   "source": [
    "#PROBLEM STATEMENT"
   ]
  },
  {
   "cell_type": "markdown",
   "id": "7b131803",
   "metadata": {},
   "source": [
    "# The dataset belongs to a life insurance company. The problem statement is to predict the bonus for its agents."
   ]
  },
  {
   "cell_type": "markdown",
   "id": "a6d9fa77",
   "metadata": {},
   "source": [
    "Importing all the required modules"
   ]
  },
  {
   "cell_type": "code",
   "execution_count": 42,
   "id": "a185abed",
   "metadata": {},
   "outputs": [],
   "source": [
    "import numpy as np\n",
    "import pandas as pd\n",
    "import matplotlib.pyplot as plt   \n",
    "import seaborn as sns\n",
    "from sklearn.model_selection import train_test_split,GridSearchCV\n",
    "from sklearn.linear_model import LinearRegression\n",
    "from sklearn.linear_model import LogisticRegression\n",
    "from sklearn import metrics\n",
    "from sklearn.metrics import classification_report,confusion_matrix\n",
    "from sklearn.preprocessing import LabelEncoder"
   ]
  },
  {
   "cell_type": "markdown",
   "id": "f9043bcf",
   "metadata": {},
   "source": [
    "Reading the file"
   ]
  },
  {
   "cell_type": "code",
   "execution_count": 2,
   "id": "a63cd7dd",
   "metadata": {
    "scrolled": false
   },
   "outputs": [
    {
     "data": {
      "text/html": [
       "<div>\n",
       "<style scoped>\n",
       "    .dataframe tbody tr th:only-of-type {\n",
       "        vertical-align: middle;\n",
       "    }\n",
       "\n",
       "    .dataframe tbody tr th {\n",
       "        vertical-align: top;\n",
       "    }\n",
       "\n",
       "    .dataframe thead th {\n",
       "        text-align: right;\n",
       "    }\n",
       "</style>\n",
       "<table border=\"1\" class=\"dataframe\">\n",
       "  <thead>\n",
       "    <tr style=\"text-align: right;\">\n",
       "      <th></th>\n",
       "      <th>CustID</th>\n",
       "      <th>AgentBonus</th>\n",
       "      <th>Age</th>\n",
       "      <th>CustTenure</th>\n",
       "      <th>Channel</th>\n",
       "      <th>Occupation</th>\n",
       "      <th>EducationField</th>\n",
       "      <th>Gender</th>\n",
       "      <th>ExistingProdType</th>\n",
       "      <th>Designation</th>\n",
       "      <th>NumberOfPolicy</th>\n",
       "      <th>MaritalStatus</th>\n",
       "      <th>MonthlyIncome</th>\n",
       "      <th>Complaint</th>\n",
       "      <th>ExistingPolicyTenure</th>\n",
       "      <th>SumAssured</th>\n",
       "      <th>Zone</th>\n",
       "      <th>PaymentMethod</th>\n",
       "      <th>LastMonthCalls</th>\n",
       "      <th>CustCareScore</th>\n",
       "    </tr>\n",
       "  </thead>\n",
       "  <tbody>\n",
       "    <tr>\n",
       "      <th>0</th>\n",
       "      <td>7000000</td>\n",
       "      <td>4409</td>\n",
       "      <td>22.0</td>\n",
       "      <td>4.0</td>\n",
       "      <td>Agent</td>\n",
       "      <td>Salaried</td>\n",
       "      <td>Graduate</td>\n",
       "      <td>Female</td>\n",
       "      <td>3</td>\n",
       "      <td>Manager</td>\n",
       "      <td>2.0</td>\n",
       "      <td>Single</td>\n",
       "      <td>20993.0</td>\n",
       "      <td>1</td>\n",
       "      <td>2.0</td>\n",
       "      <td>806761.0</td>\n",
       "      <td>North</td>\n",
       "      <td>Half Yearly</td>\n",
       "      <td>5</td>\n",
       "      <td>2.0</td>\n",
       "    </tr>\n",
       "    <tr>\n",
       "      <th>1</th>\n",
       "      <td>7000001</td>\n",
       "      <td>2214</td>\n",
       "      <td>11.0</td>\n",
       "      <td>2.0</td>\n",
       "      <td>Third Party Partner</td>\n",
       "      <td>Salaried</td>\n",
       "      <td>Graduate</td>\n",
       "      <td>Male</td>\n",
       "      <td>4</td>\n",
       "      <td>Manager</td>\n",
       "      <td>4.0</td>\n",
       "      <td>Divorced</td>\n",
       "      <td>20130.0</td>\n",
       "      <td>0</td>\n",
       "      <td>3.0</td>\n",
       "      <td>294502.0</td>\n",
       "      <td>North</td>\n",
       "      <td>Yearly</td>\n",
       "      <td>7</td>\n",
       "      <td>3.0</td>\n",
       "    </tr>\n",
       "    <tr>\n",
       "      <th>2</th>\n",
       "      <td>7000002</td>\n",
       "      <td>4273</td>\n",
       "      <td>26.0</td>\n",
       "      <td>4.0</td>\n",
       "      <td>Agent</td>\n",
       "      <td>Free Lancer</td>\n",
       "      <td>Post Graduate</td>\n",
       "      <td>Male</td>\n",
       "      <td>4</td>\n",
       "      <td>Exe</td>\n",
       "      <td>3.0</td>\n",
       "      <td>Unmarried</td>\n",
       "      <td>17090.0</td>\n",
       "      <td>1</td>\n",
       "      <td>2.0</td>\n",
       "      <td>NaN</td>\n",
       "      <td>North</td>\n",
       "      <td>Yearly</td>\n",
       "      <td>0</td>\n",
       "      <td>3.0</td>\n",
       "    </tr>\n",
       "    <tr>\n",
       "      <th>3</th>\n",
       "      <td>7000003</td>\n",
       "      <td>1791</td>\n",
       "      <td>11.0</td>\n",
       "      <td>NaN</td>\n",
       "      <td>Third Party Partner</td>\n",
       "      <td>Salaried</td>\n",
       "      <td>Graduate</td>\n",
       "      <td>Fe male</td>\n",
       "      <td>3</td>\n",
       "      <td>Executive</td>\n",
       "      <td>3.0</td>\n",
       "      <td>Divorced</td>\n",
       "      <td>17909.0</td>\n",
       "      <td>1</td>\n",
       "      <td>2.0</td>\n",
       "      <td>268635.0</td>\n",
       "      <td>West</td>\n",
       "      <td>Half Yearly</td>\n",
       "      <td>0</td>\n",
       "      <td>5.0</td>\n",
       "    </tr>\n",
       "    <tr>\n",
       "      <th>4</th>\n",
       "      <td>7000004</td>\n",
       "      <td>2955</td>\n",
       "      <td>6.0</td>\n",
       "      <td>NaN</td>\n",
       "      <td>Agent</td>\n",
       "      <td>Small Business</td>\n",
       "      <td>UG</td>\n",
       "      <td>Male</td>\n",
       "      <td>3</td>\n",
       "      <td>Executive</td>\n",
       "      <td>4.0</td>\n",
       "      <td>Divorced</td>\n",
       "      <td>18468.0</td>\n",
       "      <td>0</td>\n",
       "      <td>4.0</td>\n",
       "      <td>366405.0</td>\n",
       "      <td>West</td>\n",
       "      <td>Half Yearly</td>\n",
       "      <td>2</td>\n",
       "      <td>5.0</td>\n",
       "    </tr>\n",
       "    <tr>\n",
       "      <th>...</th>\n",
       "      <td>...</td>\n",
       "      <td>...</td>\n",
       "      <td>...</td>\n",
       "      <td>...</td>\n",
       "      <td>...</td>\n",
       "      <td>...</td>\n",
       "      <td>...</td>\n",
       "      <td>...</td>\n",
       "      <td>...</td>\n",
       "      <td>...</td>\n",
       "      <td>...</td>\n",
       "      <td>...</td>\n",
       "      <td>...</td>\n",
       "      <td>...</td>\n",
       "      <td>...</td>\n",
       "      <td>...</td>\n",
       "      <td>...</td>\n",
       "      <td>...</td>\n",
       "      <td>...</td>\n",
       "      <td>...</td>\n",
       "    </tr>\n",
       "    <tr>\n",
       "      <th>4515</th>\n",
       "      <td>7004515</td>\n",
       "      <td>3953</td>\n",
       "      <td>4.0</td>\n",
       "      <td>8.0</td>\n",
       "      <td>Agent</td>\n",
       "      <td>Small Business</td>\n",
       "      <td>Graduate</td>\n",
       "      <td>Male</td>\n",
       "      <td>4</td>\n",
       "      <td>Senior Manager</td>\n",
       "      <td>2.0</td>\n",
       "      <td>Single</td>\n",
       "      <td>26355.0</td>\n",
       "      <td>0</td>\n",
       "      <td>2.0</td>\n",
       "      <td>636473.0</td>\n",
       "      <td>West</td>\n",
       "      <td>Yearly</td>\n",
       "      <td>9</td>\n",
       "      <td>1.0</td>\n",
       "    </tr>\n",
       "    <tr>\n",
       "      <th>4516</th>\n",
       "      <td>7004516</td>\n",
       "      <td>2939</td>\n",
       "      <td>9.0</td>\n",
       "      <td>9.0</td>\n",
       "      <td>Agent</td>\n",
       "      <td>Salaried</td>\n",
       "      <td>Under Graduate</td>\n",
       "      <td>Female</td>\n",
       "      <td>2</td>\n",
       "      <td>Executive</td>\n",
       "      <td>2.0</td>\n",
       "      <td>Married</td>\n",
       "      <td>20991.0</td>\n",
       "      <td>0</td>\n",
       "      <td>3.0</td>\n",
       "      <td>296813.0</td>\n",
       "      <td>North</td>\n",
       "      <td>Yearly</td>\n",
       "      <td>1</td>\n",
       "      <td>3.0</td>\n",
       "    </tr>\n",
       "    <tr>\n",
       "      <th>4517</th>\n",
       "      <td>7004517</td>\n",
       "      <td>3792</td>\n",
       "      <td>23.0</td>\n",
       "      <td>23.0</td>\n",
       "      <td>Agent</td>\n",
       "      <td>Salaried</td>\n",
       "      <td>Engineer</td>\n",
       "      <td>Female</td>\n",
       "      <td>5</td>\n",
       "      <td>AVP</td>\n",
       "      <td>5.0</td>\n",
       "      <td>Single</td>\n",
       "      <td>NaN</td>\n",
       "      <td>0</td>\n",
       "      <td>2.0</td>\n",
       "      <td>667371.0</td>\n",
       "      <td>North</td>\n",
       "      <td>Half Yearly</td>\n",
       "      <td>4</td>\n",
       "      <td>1.0</td>\n",
       "    </tr>\n",
       "    <tr>\n",
       "      <th>4518</th>\n",
       "      <td>7004518</td>\n",
       "      <td>4816</td>\n",
       "      <td>10.0</td>\n",
       "      <td>10.0</td>\n",
       "      <td>Online</td>\n",
       "      <td>Small Business</td>\n",
       "      <td>Graduate</td>\n",
       "      <td>Female</td>\n",
       "      <td>4</td>\n",
       "      <td>Executive</td>\n",
       "      <td>2.0</td>\n",
       "      <td>Single</td>\n",
       "      <td>20068.0</td>\n",
       "      <td>0</td>\n",
       "      <td>6.0</td>\n",
       "      <td>943999.0</td>\n",
       "      <td>West</td>\n",
       "      <td>Half Yearly</td>\n",
       "      <td>1</td>\n",
       "      <td>5.0</td>\n",
       "    </tr>\n",
       "    <tr>\n",
       "      <th>4519</th>\n",
       "      <td>7004519</td>\n",
       "      <td>4764</td>\n",
       "      <td>14.0</td>\n",
       "      <td>10.0</td>\n",
       "      <td>Agent</td>\n",
       "      <td>Salaried</td>\n",
       "      <td>Under Graduate</td>\n",
       "      <td>Female</td>\n",
       "      <td>5</td>\n",
       "      <td>Manager</td>\n",
       "      <td>2.0</td>\n",
       "      <td>Married</td>\n",
       "      <td>23820.0</td>\n",
       "      <td>0</td>\n",
       "      <td>3.0</td>\n",
       "      <td>700308.0</td>\n",
       "      <td>North</td>\n",
       "      <td>Half Yearly</td>\n",
       "      <td>1</td>\n",
       "      <td>3.0</td>\n",
       "    </tr>\n",
       "  </tbody>\n",
       "</table>\n",
       "<p>4520 rows × 20 columns</p>\n",
       "</div>"
      ],
      "text/plain": [
       "       CustID  AgentBonus   Age  CustTenure              Channel  \\\n",
       "0     7000000        4409  22.0         4.0                Agent   \n",
       "1     7000001        2214  11.0         2.0  Third Party Partner   \n",
       "2     7000002        4273  26.0         4.0                Agent   \n",
       "3     7000003        1791  11.0         NaN  Third Party Partner   \n",
       "4     7000004        2955   6.0         NaN                Agent   \n",
       "...       ...         ...   ...         ...                  ...   \n",
       "4515  7004515        3953   4.0         8.0                Agent   \n",
       "4516  7004516        2939   9.0         9.0                Agent   \n",
       "4517  7004517        3792  23.0        23.0                Agent   \n",
       "4518  7004518        4816  10.0        10.0               Online   \n",
       "4519  7004519        4764  14.0        10.0                Agent   \n",
       "\n",
       "          Occupation  EducationField   Gender  ExistingProdType  \\\n",
       "0           Salaried        Graduate   Female                 3   \n",
       "1           Salaried        Graduate     Male                 4   \n",
       "2        Free Lancer   Post Graduate     Male                 4   \n",
       "3           Salaried        Graduate  Fe male                 3   \n",
       "4     Small Business              UG     Male                 3   \n",
       "...              ...             ...      ...               ...   \n",
       "4515  Small Business        Graduate     Male                 4   \n",
       "4516        Salaried  Under Graduate   Female                 2   \n",
       "4517        Salaried        Engineer   Female                 5   \n",
       "4518  Small Business        Graduate   Female                 4   \n",
       "4519        Salaried  Under Graduate   Female                 5   \n",
       "\n",
       "         Designation  NumberOfPolicy MaritalStatus  MonthlyIncome  Complaint  \\\n",
       "0            Manager             2.0        Single        20993.0          1   \n",
       "1            Manager             4.0      Divorced        20130.0          0   \n",
       "2                Exe             3.0     Unmarried        17090.0          1   \n",
       "3          Executive             3.0      Divorced        17909.0          1   \n",
       "4          Executive             4.0      Divorced        18468.0          0   \n",
       "...              ...             ...           ...            ...        ...   \n",
       "4515  Senior Manager             2.0        Single        26355.0          0   \n",
       "4516       Executive             2.0       Married        20991.0          0   \n",
       "4517             AVP             5.0        Single            NaN          0   \n",
       "4518       Executive             2.0        Single        20068.0          0   \n",
       "4519         Manager             2.0       Married        23820.0          0   \n",
       "\n",
       "      ExistingPolicyTenure  SumAssured   Zone PaymentMethod  LastMonthCalls  \\\n",
       "0                      2.0    806761.0  North   Half Yearly               5   \n",
       "1                      3.0    294502.0  North        Yearly               7   \n",
       "2                      2.0         NaN  North        Yearly               0   \n",
       "3                      2.0    268635.0   West   Half Yearly               0   \n",
       "4                      4.0    366405.0   West   Half Yearly               2   \n",
       "...                    ...         ...    ...           ...             ...   \n",
       "4515                   2.0    636473.0   West        Yearly               9   \n",
       "4516                   3.0    296813.0  North        Yearly               1   \n",
       "4517                   2.0    667371.0  North   Half Yearly               4   \n",
       "4518                   6.0    943999.0   West   Half Yearly               1   \n",
       "4519                   3.0    700308.0  North   Half Yearly               1   \n",
       "\n",
       "      CustCareScore  \n",
       "0               2.0  \n",
       "1               3.0  \n",
       "2               3.0  \n",
       "3               5.0  \n",
       "4               5.0  \n",
       "...             ...  \n",
       "4515            1.0  \n",
       "4516            3.0  \n",
       "4517            1.0  \n",
       "4518            5.0  \n",
       "4519            3.0  \n",
       "\n",
       "[4520 rows x 20 columns]"
      ]
     },
     "execution_count": 2,
     "metadata": {},
     "output_type": "execute_result"
    }
   ],
   "source": [
    "df=pd.read_excel(\"Sales.xlsx\",sheet_name='Sales')\n",
    "df"
   ]
  },
  {
   "cell_type": "markdown",
   "id": "179aa512",
   "metadata": {},
   "source": [
    "Gathering data from the file"
   ]
  },
  {
   "cell_type": "code",
   "execution_count": 3,
   "id": "7ecae6e6",
   "metadata": {},
   "outputs": [
    {
     "name": "stdout",
     "output_type": "stream",
     "text": [
      "<class 'pandas.core.frame.DataFrame'>\n",
      "RangeIndex: 4520 entries, 0 to 4519\n",
      "Data columns (total 20 columns):\n",
      " #   Column                Non-Null Count  Dtype  \n",
      "---  ------                --------------  -----  \n",
      " 0   CustID                4520 non-null   int64  \n",
      " 1   AgentBonus            4520 non-null   int64  \n",
      " 2   Age                   4251 non-null   float64\n",
      " 3   CustTenure            4294 non-null   float64\n",
      " 4   Channel               4520 non-null   object \n",
      " 5   Occupation            4520 non-null   object \n",
      " 6   EducationField        4520 non-null   object \n",
      " 7   Gender                4520 non-null   object \n",
      " 8   ExistingProdType      4520 non-null   int64  \n",
      " 9   Designation           4520 non-null   object \n",
      " 10  NumberOfPolicy        4475 non-null   float64\n",
      " 11  MaritalStatus         4520 non-null   object \n",
      " 12  MonthlyIncome         4284 non-null   float64\n",
      " 13  Complaint             4520 non-null   int64  \n",
      " 14  ExistingPolicyTenure  4336 non-null   float64\n",
      " 15  SumAssured            4366 non-null   float64\n",
      " 16  Zone                  4520 non-null   object \n",
      " 17  PaymentMethod         4520 non-null   object \n",
      " 18  LastMonthCalls        4520 non-null   int64  \n",
      " 19  CustCareScore         4468 non-null   float64\n",
      "dtypes: float64(7), int64(5), object(8)\n",
      "memory usage: 706.4+ KB\n"
     ]
    }
   ],
   "source": [
    "df.info()"
   ]
  },
  {
   "cell_type": "code",
   "execution_count": 4,
   "id": "d95cad7c",
   "metadata": {},
   "outputs": [
    {
     "data": {
      "text/html": [
       "<div>\n",
       "<style scoped>\n",
       "    .dataframe tbody tr th:only-of-type {\n",
       "        vertical-align: middle;\n",
       "    }\n",
       "\n",
       "    .dataframe tbody tr th {\n",
       "        vertical-align: top;\n",
       "    }\n",
       "\n",
       "    .dataframe thead th {\n",
       "        text-align: right;\n",
       "    }\n",
       "</style>\n",
       "<table border=\"1\" class=\"dataframe\">\n",
       "  <thead>\n",
       "    <tr style=\"text-align: right;\">\n",
       "      <th></th>\n",
       "      <th>CustID</th>\n",
       "      <th>AgentBonus</th>\n",
       "      <th>Age</th>\n",
       "      <th>CustTenure</th>\n",
       "      <th>Channel</th>\n",
       "      <th>Occupation</th>\n",
       "      <th>EducationField</th>\n",
       "      <th>Gender</th>\n",
       "      <th>ExistingProdType</th>\n",
       "      <th>Designation</th>\n",
       "      <th>NumberOfPolicy</th>\n",
       "      <th>MaritalStatus</th>\n",
       "      <th>MonthlyIncome</th>\n",
       "      <th>Complaint</th>\n",
       "      <th>ExistingPolicyTenure</th>\n",
       "      <th>SumAssured</th>\n",
       "      <th>Zone</th>\n",
       "      <th>PaymentMethod</th>\n",
       "      <th>LastMonthCalls</th>\n",
       "      <th>CustCareScore</th>\n",
       "    </tr>\n",
       "  </thead>\n",
       "  <tbody>\n",
       "    <tr>\n",
       "      <th>count</th>\n",
       "      <td>4.520000e+03</td>\n",
       "      <td>4520.000000</td>\n",
       "      <td>4251.000000</td>\n",
       "      <td>4294.000000</td>\n",
       "      <td>4520</td>\n",
       "      <td>4520</td>\n",
       "      <td>4520</td>\n",
       "      <td>4520</td>\n",
       "      <td>4520.000000</td>\n",
       "      <td>4520</td>\n",
       "      <td>4475.000000</td>\n",
       "      <td>4520</td>\n",
       "      <td>4284.000000</td>\n",
       "      <td>4520.000000</td>\n",
       "      <td>4336.000000</td>\n",
       "      <td>4.366000e+03</td>\n",
       "      <td>4520</td>\n",
       "      <td>4520</td>\n",
       "      <td>4520.000000</td>\n",
       "      <td>4468.000000</td>\n",
       "    </tr>\n",
       "    <tr>\n",
       "      <th>unique</th>\n",
       "      <td>NaN</td>\n",
       "      <td>NaN</td>\n",
       "      <td>NaN</td>\n",
       "      <td>NaN</td>\n",
       "      <td>3</td>\n",
       "      <td>5</td>\n",
       "      <td>7</td>\n",
       "      <td>3</td>\n",
       "      <td>NaN</td>\n",
       "      <td>6</td>\n",
       "      <td>NaN</td>\n",
       "      <td>4</td>\n",
       "      <td>NaN</td>\n",
       "      <td>NaN</td>\n",
       "      <td>NaN</td>\n",
       "      <td>NaN</td>\n",
       "      <td>4</td>\n",
       "      <td>4</td>\n",
       "      <td>NaN</td>\n",
       "      <td>NaN</td>\n",
       "    </tr>\n",
       "    <tr>\n",
       "      <th>top</th>\n",
       "      <td>NaN</td>\n",
       "      <td>NaN</td>\n",
       "      <td>NaN</td>\n",
       "      <td>NaN</td>\n",
       "      <td>Agent</td>\n",
       "      <td>Salaried</td>\n",
       "      <td>Graduate</td>\n",
       "      <td>Male</td>\n",
       "      <td>NaN</td>\n",
       "      <td>Manager</td>\n",
       "      <td>NaN</td>\n",
       "      <td>Married</td>\n",
       "      <td>NaN</td>\n",
       "      <td>NaN</td>\n",
       "      <td>NaN</td>\n",
       "      <td>NaN</td>\n",
       "      <td>West</td>\n",
       "      <td>Half Yearly</td>\n",
       "      <td>NaN</td>\n",
       "      <td>NaN</td>\n",
       "    </tr>\n",
       "    <tr>\n",
       "      <th>freq</th>\n",
       "      <td>NaN</td>\n",
       "      <td>NaN</td>\n",
       "      <td>NaN</td>\n",
       "      <td>NaN</td>\n",
       "      <td>3194</td>\n",
       "      <td>2192</td>\n",
       "      <td>1870</td>\n",
       "      <td>2688</td>\n",
       "      <td>NaN</td>\n",
       "      <td>1620</td>\n",
       "      <td>NaN</td>\n",
       "      <td>2268</td>\n",
       "      <td>NaN</td>\n",
       "      <td>NaN</td>\n",
       "      <td>NaN</td>\n",
       "      <td>NaN</td>\n",
       "      <td>2566</td>\n",
       "      <td>2656</td>\n",
       "      <td>NaN</td>\n",
       "      <td>NaN</td>\n",
       "    </tr>\n",
       "    <tr>\n",
       "      <th>mean</th>\n",
       "      <td>7.002260e+06</td>\n",
       "      <td>4077.838274</td>\n",
       "      <td>14.494707</td>\n",
       "      <td>14.469027</td>\n",
       "      <td>NaN</td>\n",
       "      <td>NaN</td>\n",
       "      <td>NaN</td>\n",
       "      <td>NaN</td>\n",
       "      <td>3.688938</td>\n",
       "      <td>NaN</td>\n",
       "      <td>3.565363</td>\n",
       "      <td>NaN</td>\n",
       "      <td>22890.309991</td>\n",
       "      <td>0.287168</td>\n",
       "      <td>4.130074</td>\n",
       "      <td>6.199997e+05</td>\n",
       "      <td>NaN</td>\n",
       "      <td>NaN</td>\n",
       "      <td>4.626991</td>\n",
       "      <td>3.067592</td>\n",
       "    </tr>\n",
       "    <tr>\n",
       "      <th>std</th>\n",
       "      <td>1.304956e+03</td>\n",
       "      <td>1403.321711</td>\n",
       "      <td>9.037629</td>\n",
       "      <td>8.963671</td>\n",
       "      <td>NaN</td>\n",
       "      <td>NaN</td>\n",
       "      <td>NaN</td>\n",
       "      <td>NaN</td>\n",
       "      <td>1.015769</td>\n",
       "      <td>NaN</td>\n",
       "      <td>1.455926</td>\n",
       "      <td>NaN</td>\n",
       "      <td>4885.600757</td>\n",
       "      <td>0.452491</td>\n",
       "      <td>3.346386</td>\n",
       "      <td>2.462348e+05</td>\n",
       "      <td>NaN</td>\n",
       "      <td>NaN</td>\n",
       "      <td>3.620132</td>\n",
       "      <td>1.382968</td>\n",
       "    </tr>\n",
       "    <tr>\n",
       "      <th>min</th>\n",
       "      <td>7.000000e+06</td>\n",
       "      <td>1605.000000</td>\n",
       "      <td>2.000000</td>\n",
       "      <td>2.000000</td>\n",
       "      <td>NaN</td>\n",
       "      <td>NaN</td>\n",
       "      <td>NaN</td>\n",
       "      <td>NaN</td>\n",
       "      <td>1.000000</td>\n",
       "      <td>NaN</td>\n",
       "      <td>1.000000</td>\n",
       "      <td>NaN</td>\n",
       "      <td>16009.000000</td>\n",
       "      <td>0.000000</td>\n",
       "      <td>1.000000</td>\n",
       "      <td>1.685360e+05</td>\n",
       "      <td>NaN</td>\n",
       "      <td>NaN</td>\n",
       "      <td>0.000000</td>\n",
       "      <td>1.000000</td>\n",
       "    </tr>\n",
       "    <tr>\n",
       "      <th>25%</th>\n",
       "      <td>7.001130e+06</td>\n",
       "      <td>3027.750000</td>\n",
       "      <td>7.000000</td>\n",
       "      <td>7.000000</td>\n",
       "      <td>NaN</td>\n",
       "      <td>NaN</td>\n",
       "      <td>NaN</td>\n",
       "      <td>NaN</td>\n",
       "      <td>3.000000</td>\n",
       "      <td>NaN</td>\n",
       "      <td>2.000000</td>\n",
       "      <td>NaN</td>\n",
       "      <td>19683.500000</td>\n",
       "      <td>0.000000</td>\n",
       "      <td>2.000000</td>\n",
       "      <td>4.394432e+05</td>\n",
       "      <td>NaN</td>\n",
       "      <td>NaN</td>\n",
       "      <td>2.000000</td>\n",
       "      <td>2.000000</td>\n",
       "    </tr>\n",
       "    <tr>\n",
       "      <th>50%</th>\n",
       "      <td>7.002260e+06</td>\n",
       "      <td>3911.500000</td>\n",
       "      <td>13.000000</td>\n",
       "      <td>13.000000</td>\n",
       "      <td>NaN</td>\n",
       "      <td>NaN</td>\n",
       "      <td>NaN</td>\n",
       "      <td>NaN</td>\n",
       "      <td>4.000000</td>\n",
       "      <td>NaN</td>\n",
       "      <td>4.000000</td>\n",
       "      <td>NaN</td>\n",
       "      <td>21606.000000</td>\n",
       "      <td>0.000000</td>\n",
       "      <td>3.000000</td>\n",
       "      <td>5.789765e+05</td>\n",
       "      <td>NaN</td>\n",
       "      <td>NaN</td>\n",
       "      <td>3.000000</td>\n",
       "      <td>3.000000</td>\n",
       "    </tr>\n",
       "    <tr>\n",
       "      <th>75%</th>\n",
       "      <td>7.003389e+06</td>\n",
       "      <td>4867.250000</td>\n",
       "      <td>20.000000</td>\n",
       "      <td>20.000000</td>\n",
       "      <td>NaN</td>\n",
       "      <td>NaN</td>\n",
       "      <td>NaN</td>\n",
       "      <td>NaN</td>\n",
       "      <td>4.000000</td>\n",
       "      <td>NaN</td>\n",
       "      <td>5.000000</td>\n",
       "      <td>NaN</td>\n",
       "      <td>24725.000000</td>\n",
       "      <td>1.000000</td>\n",
       "      <td>6.000000</td>\n",
       "      <td>7.582360e+05</td>\n",
       "      <td>NaN</td>\n",
       "      <td>NaN</td>\n",
       "      <td>8.000000</td>\n",
       "      <td>4.000000</td>\n",
       "    </tr>\n",
       "    <tr>\n",
       "      <th>max</th>\n",
       "      <td>7.004519e+06</td>\n",
       "      <td>9608.000000</td>\n",
       "      <td>58.000000</td>\n",
       "      <td>57.000000</td>\n",
       "      <td>NaN</td>\n",
       "      <td>NaN</td>\n",
       "      <td>NaN</td>\n",
       "      <td>NaN</td>\n",
       "      <td>6.000000</td>\n",
       "      <td>NaN</td>\n",
       "      <td>6.000000</td>\n",
       "      <td>NaN</td>\n",
       "      <td>38456.000000</td>\n",
       "      <td>1.000000</td>\n",
       "      <td>25.000000</td>\n",
       "      <td>1.838496e+06</td>\n",
       "      <td>NaN</td>\n",
       "      <td>NaN</td>\n",
       "      <td>18.000000</td>\n",
       "      <td>5.000000</td>\n",
       "    </tr>\n",
       "  </tbody>\n",
       "</table>\n",
       "</div>"
      ],
      "text/plain": [
       "              CustID   AgentBonus          Age   CustTenure Channel  \\\n",
       "count   4.520000e+03  4520.000000  4251.000000  4294.000000    4520   \n",
       "unique           NaN          NaN          NaN          NaN       3   \n",
       "top              NaN          NaN          NaN          NaN   Agent   \n",
       "freq             NaN          NaN          NaN          NaN    3194   \n",
       "mean    7.002260e+06  4077.838274    14.494707    14.469027     NaN   \n",
       "std     1.304956e+03  1403.321711     9.037629     8.963671     NaN   \n",
       "min     7.000000e+06  1605.000000     2.000000     2.000000     NaN   \n",
       "25%     7.001130e+06  3027.750000     7.000000     7.000000     NaN   \n",
       "50%     7.002260e+06  3911.500000    13.000000    13.000000     NaN   \n",
       "75%     7.003389e+06  4867.250000    20.000000    20.000000     NaN   \n",
       "max     7.004519e+06  9608.000000    58.000000    57.000000     NaN   \n",
       "\n",
       "       Occupation EducationField Gender  ExistingProdType Designation  \\\n",
       "count        4520           4520   4520       4520.000000        4520   \n",
       "unique          5              7      3               NaN           6   \n",
       "top      Salaried       Graduate   Male               NaN     Manager   \n",
       "freq         2192           1870   2688               NaN        1620   \n",
       "mean          NaN            NaN    NaN          3.688938         NaN   \n",
       "std           NaN            NaN    NaN          1.015769         NaN   \n",
       "min           NaN            NaN    NaN          1.000000         NaN   \n",
       "25%           NaN            NaN    NaN          3.000000         NaN   \n",
       "50%           NaN            NaN    NaN          4.000000         NaN   \n",
       "75%           NaN            NaN    NaN          4.000000         NaN   \n",
       "max           NaN            NaN    NaN          6.000000         NaN   \n",
       "\n",
       "        NumberOfPolicy MaritalStatus  MonthlyIncome    Complaint  \\\n",
       "count      4475.000000          4520    4284.000000  4520.000000   \n",
       "unique             NaN             4            NaN          NaN   \n",
       "top                NaN       Married            NaN          NaN   \n",
       "freq               NaN          2268            NaN          NaN   \n",
       "mean          3.565363           NaN   22890.309991     0.287168   \n",
       "std           1.455926           NaN    4885.600757     0.452491   \n",
       "min           1.000000           NaN   16009.000000     0.000000   \n",
       "25%           2.000000           NaN   19683.500000     0.000000   \n",
       "50%           4.000000           NaN   21606.000000     0.000000   \n",
       "75%           5.000000           NaN   24725.000000     1.000000   \n",
       "max           6.000000           NaN   38456.000000     1.000000   \n",
       "\n",
       "        ExistingPolicyTenure    SumAssured  Zone PaymentMethod  \\\n",
       "count            4336.000000  4.366000e+03  4520          4520   \n",
       "unique                   NaN           NaN     4             4   \n",
       "top                      NaN           NaN  West   Half Yearly   \n",
       "freq                     NaN           NaN  2566          2656   \n",
       "mean                4.130074  6.199997e+05   NaN           NaN   \n",
       "std                 3.346386  2.462348e+05   NaN           NaN   \n",
       "min                 1.000000  1.685360e+05   NaN           NaN   \n",
       "25%                 2.000000  4.394432e+05   NaN           NaN   \n",
       "50%                 3.000000  5.789765e+05   NaN           NaN   \n",
       "75%                 6.000000  7.582360e+05   NaN           NaN   \n",
       "max                25.000000  1.838496e+06   NaN           NaN   \n",
       "\n",
       "        LastMonthCalls  CustCareScore  \n",
       "count      4520.000000    4468.000000  \n",
       "unique             NaN            NaN  \n",
       "top                NaN            NaN  \n",
       "freq               NaN            NaN  \n",
       "mean          4.626991       3.067592  \n",
       "std           3.620132       1.382968  \n",
       "min           0.000000       1.000000  \n",
       "25%           2.000000       2.000000  \n",
       "50%           3.000000       3.000000  \n",
       "75%           8.000000       4.000000  \n",
       "max          18.000000       5.000000  "
      ]
     },
     "execution_count": 4,
     "metadata": {},
     "output_type": "execute_result"
    }
   ],
   "source": [
    "df.describe(include='all')"
   ]
  },
  {
   "cell_type": "code",
   "execution_count": 5,
   "id": "b0cf904c",
   "metadata": {},
   "outputs": [
    {
     "data": {
      "text/plain": [
       "(4520, 20)"
      ]
     },
     "execution_count": 5,
     "metadata": {},
     "output_type": "execute_result"
    }
   ],
   "source": [
    "df.shape"
   ]
  },
  {
   "cell_type": "markdown",
   "id": "59be7af1",
   "metadata": {},
   "source": [
    "Removing unwanted rows and columns from the file"
   ]
  },
  {
   "cell_type": "code",
   "execution_count": 6,
   "id": "56574f48",
   "metadata": {},
   "outputs": [],
   "source": [
    "df=df.dropna()\n",
    "df=df.drop(columns=['CustID'])"
   ]
  },
  {
   "cell_type": "markdown",
   "id": "7c5410fe",
   "metadata": {},
   "source": [
    "Checking whether any changes have been made to the data"
   ]
  },
  {
   "cell_type": "code",
   "execution_count": 7,
   "id": "ffd95a1f",
   "metadata": {},
   "outputs": [
    {
     "data": {
      "text/plain": [
       "(3447, 19)"
      ]
     },
     "execution_count": 7,
     "metadata": {},
     "output_type": "execute_result"
    }
   ],
   "source": [
    "df.shape"
   ]
  },
  {
   "cell_type": "code",
   "execution_count": 8,
   "id": "50b956c4",
   "metadata": {},
   "outputs": [
    {
     "name": "stdout",
     "output_type": "stream",
     "text": [
      "<class 'pandas.core.frame.DataFrame'>\n",
      "Int64Index: 3447 entries, 0 to 4519\n",
      "Data columns (total 19 columns):\n",
      " #   Column                Non-Null Count  Dtype  \n",
      "---  ------                --------------  -----  \n",
      " 0   AgentBonus            3447 non-null   int64  \n",
      " 1   Age                   3447 non-null   float64\n",
      " 2   CustTenure            3447 non-null   float64\n",
      " 3   Channel               3447 non-null   object \n",
      " 4   Occupation            3447 non-null   object \n",
      " 5   EducationField        3447 non-null   object \n",
      " 6   Gender                3447 non-null   object \n",
      " 7   ExistingProdType      3447 non-null   int64  \n",
      " 8   Designation           3447 non-null   object \n",
      " 9   NumberOfPolicy        3447 non-null   float64\n",
      " 10  MaritalStatus         3447 non-null   object \n",
      " 11  MonthlyIncome         3447 non-null   float64\n",
      " 12  Complaint             3447 non-null   int64  \n",
      " 13  ExistingPolicyTenure  3447 non-null   float64\n",
      " 14  SumAssured            3447 non-null   float64\n",
      " 15  Zone                  3447 non-null   object \n",
      " 16  PaymentMethod         3447 non-null   object \n",
      " 17  LastMonthCalls        3447 non-null   int64  \n",
      " 18  CustCareScore         3447 non-null   float64\n",
      "dtypes: float64(7), int64(4), object(8)\n",
      "memory usage: 538.6+ KB\n"
     ]
    }
   ],
   "source": [
    "df.info()"
   ]
  },
  {
   "cell_type": "markdown",
   "id": "63a399ac",
   "metadata": {},
   "source": [
    "Plotting a graph between MONTHLY INCOME and AGENT BONUS\n"
   ]
  },
  {
   "cell_type": "code",
   "execution_count": 9,
   "id": "a7711390",
   "metadata": {},
   "outputs": [
    {
     "data": {
      "text/plain": [
       "Text(0, 0.5, 'AGENT BONUS')"
      ]
     },
     "execution_count": 9,
     "metadata": {},
     "output_type": "execute_result"
    },
    {
     "data": {
      "image/png": "[encoded data removed]",
      "text/plain": [
       "<Figure size 640x480 with 1 Axes>"
      ]
     },
     "metadata": {},
     "output_type": "display_data"
    }
   ],
   "source": [
    "plt.scatter(df.MonthlyIncome, df.AgentBonus)\n",
    "plt.title(\"MONTHLY INCOME vs AGENT BONUS\")\n",
    "plt.xlabel('MONTHLY INCOME')\n",
    "plt.ylabel('AGENT BONUS')"
   ]
  },
  {
   "cell_type": "markdown",
   "id": "9f0fd5fa",
   "metadata": {},
   "source": [
    "Plotting a graph between CUSTOMER CARE SCORE and AGENT BONUS"
   ]
  },
  {
   "cell_type": "code",
   "execution_count": 10,
   "id": "bad99f1b",
   "metadata": {},
   "outputs": [
    {
     "data": {
      "text/plain": [
       "Text(0, 0.5, 'AGENT BONUS')"
      ]
     },
     "execution_count": 10,
     "metadata": {},
     "output_type": "execute_result"
    },
    {
     "data": {
      "image/png": "[encoded data removed]",
      "text/plain": [
       "<Figure size 640x480 with 1 Axes>"
      ]
     },
     "metadata": {},
     "output_type": "display_data"
    }
   ],
   "source": [
    "plt.scatter(df.CustCareScore, df.AgentBonus,)\n",
    "plt.title(\"CUSTCARESCORE vs AGENT BONUS\")\n",
    "plt.xlabel('CUST_CARE_SCORE')\n",
    "plt.ylabel('AGENT BONUS')"
   ]
  },
  {
   "cell_type": "markdown",
   "id": "65d110d8",
   "metadata": {},
   "source": [
    "Plotting a graph between DESIGNATION and AGENT BONUS"
   ]
  },
  {
   "cell_type": "code",
   "execution_count": 11,
   "id": "5b58402e",
   "metadata": {},
   "outputs": [
    {
     "data": {
      "text/plain": [
       "Text(0, 0.5, 'AGENT BONUS')"
      ]
     },
     "execution_count": 11,
     "metadata": {},
     "output_type": "execute_result"
    },
    {
     "data": {
      "image/png": "[encoded data removed]",
      "text/plain": [
       "<Figure size 640x480 with 1 Axes>"
      ]
     },
     "metadata": {},
     "output_type": "display_data"
    }
   ],
   "source": [
    "plt.scatter(df.Designation, df.AgentBonus,alpha=0.3)\n",
    "plt.title(\"DESIGNATION vs AGENT BONUS\")\n",
    "plt.xlabel('DESIGNATION')\n",
    "plt.ylabel('AGENT BONUS')"
   ]
  },
  {
   "cell_type": "markdown",
   "id": "f1ac640c",
   "metadata": {},
   "source": [
    "Detailed viewing of data"
   ]
  },
  {
   "cell_type": "code",
   "execution_count": 12,
   "id": "f0e6c88b",
   "metadata": {},
   "outputs": [
    {
     "data": {
      "image/png": "[encoded data removed]",
      "text/plain": [
       "<Figure size 1200x700 with 2 Axes>"
      ]
     },
     "metadata": {},
     "output_type": "display_data"
    }
   ],
   "source": [
    "plt.figure(figsize=(12,7))\n",
    "sns.heatmap(df.corr(), annot=True,mask=np.triu(df.corr(),+1));"
   ]
  },
  {
   "cell_type": "markdown",
   "id": "eed62206",
   "metadata": {},
   "source": [
    "Checking for any duplicate rows"
   ]
  },
  {
   "cell_type": "code",
   "execution_count": 13,
   "id": "4c8917b9",
   "metadata": {},
   "outputs": [
    {
     "name": "stdout",
     "output_type": "stream",
     "text": [
      "Number of duplicate rows = 0\n",
      "(3447, 19)\n"
     ]
    }
   ],
   "source": [
    "dups = df.duplicated()\n",
    "print('Number of duplicate rows = %d' % (dups.sum()))\n",
    "print(df.shape)"
   ]
  },
  {
   "cell_type": "markdown",
   "id": "fd7d8567",
   "metadata": {},
   "source": []
  },
  {
   "cell_type": "markdown",
   "id": "8741a639",
   "metadata": {},
   "source": [
    "Updating all values into their respective integer representation for easier handling of data"
   ]
  },
  {
   "cell_type": "code",
   "execution_count": 14,
   "id": "370338bb",
   "metadata": {},
   "outputs": [],
   "source": [
    "df['MaritalStatus']=np.where(df['MaritalStatus'] =='Divorced', 0, df['MaritalStatus'])\n",
    "df['MaritalStatus']=np.where(df['MaritalStatus'] =='Single', 0, df['MaritalStatus'])\n",
    "df['MaritalStatus']=np.where(df['MaritalStatus'] =='Unmarried', 0, df['MaritalStatus'])\n",
    "df['MaritalStatus']=np.where(df['MaritalStatus'] =='Single', 0, df['MaritalStatus'])\n",
    "df['MaritalStatus']=np.where(df['MaritalStatus'] =='Married', 1, df['MaritalStatus'])\n"
   ]
  },
  {
   "cell_type": "code",
   "execution_count": 15,
   "id": "a72cb230",
   "metadata": {},
   "outputs": [],
   "source": [
    "df['EducationField']=np.where(df['EducationField'] =='Under Graduate', '1', df['EducationField'])\n",
    "df['EducationField']=np.where(df['EducationField'] =='UG', '1', df['EducationField'])\n",
    "df['EducationField']=np.where(df['EducationField'] =='Graduate', '2', df['EducationField'])\n",
    "df['EducationField']=np.where(df['EducationField'] =='Engineer', '2', df['EducationField'])\n",
    "df['EducationField']=np.where(df['EducationField'] =='Post Graduate', '3', df['EducationField'])\n",
    "df['EducationField']=np.where(df['EducationField'] =='Diploma', '3', df['EducationField'])\n",
    "df['EducationField']=np.where(df['EducationField'] =='MBA', '3', df['EducationField'])"
   ]
  },
  {
   "cell_type": "code",
   "execution_count": 16,
   "id": "a40d8c5b",
   "metadata": {},
   "outputs": [],
   "source": [
    "df['Gender']=np.where(df['Gender'] =='Male', 1, df['Gender'])\n",
    "df['Gender']=np.where(df['Gender'] =='Female', 0, df['Gender'])\n",
    "df['Gender']=np.where(df['Gender'] =='Fe male', 0, df['Gender'])"
   ]
  },
  {
   "cell_type": "code",
   "execution_count": 17,
   "id": "836c1256",
   "metadata": {},
   "outputs": [],
   "source": [
    "df['Zone']=np.where(df['Zone'] =='North', 1, df['Zone'])\n",
    "df['Zone']=np.where(df['Zone'] =='West', 2, df['Zone'])\n",
    "df['Zone']=np.where(df['Zone'] =='East', 3, df['Zone'])\n",
    "df['Zone']=np.where(df['Zone'] =='South', 4, df['Zone'])"
   ]
  },
  {
   "cell_type": "code",
   "execution_count": 18,
   "id": "f06f7638",
   "metadata": {},
   "outputs": [],
   "source": [
    "df['Designation']=np.where(df['Designation'] =='Manager', 1, df['Designation'])\n",
    "df['Designation']=np.where(df['Designation'] =='Executive', 2, df['Designation'])\n",
    "df['Designation']=np.where(df['Designation'] =='Exe', 2, df['Designation'])\n",
    "df['Designation']=np.where(df['Designation'] =='Senior Manager', 3, df['Designation'])\n",
    "df['Designation']=np.where(df['Designation'] =='AVP', 4, df['Designation'])\n",
    "df['Designation']=np.where(df['Designation'] =='VP', 2, df['Designation'])"
   ]
  },
  {
   "cell_type": "code",
   "execution_count": 19,
   "id": "c14aa147",
   "metadata": {},
   "outputs": [],
   "source": [
    "df['Occupation']=np.where(df['Occupation'] =='Free Lancer', 1, df['Occupation'])\n",
    "df['Occupation']=np.where(df['Occupation'] =='Small Business', 2, df['Occupation'])\n",
    "df['Occupation']=np.where(df['Occupation'] =='Salaried', 3, df['Occupation'])\n",
    "df['Occupation']=np.where(df['Occupation'] =='Large Business', 4, df['Occupation'])\n",
    "df['Occupation']=np.where(df['Occupation'] =='Laarge Business', 4, df['Occupation'])"
   ]
  },
  {
   "cell_type": "code",
   "execution_count": 20,
   "id": "1bb612d1",
   "metadata": {},
   "outputs": [],
   "source": [
    "df['Channel']=np.where(df['Channel'] =='Third Party Partner', 1, df['Channel'])\n",
    "df['Channel']=np.where(df['Channel'] =='Online', 2, df['Channel'])\n",
    "df['Channel']=np.where(df['Channel'] =='Agent', 3, df['Channel'])"
   ]
  },
  {
   "cell_type": "code",
   "execution_count": 21,
   "id": "10120afc",
   "metadata": {},
   "outputs": [],
   "source": [
    "df['PaymentMethod']=np.where(df['PaymentMethod'] =='Quarterly', 4, df['PaymentMethod'])\n",
    "df['PaymentMethod']=np.where(df['PaymentMethod'] =='Half Yearly', 2, df['PaymentMethod'])\n",
    "df['PaymentMethod']=np.where(df['PaymentMethod'] =='Yearly', 1, df['PaymentMethod'])\n",
    "df['PaymentMethod']=np.where(df['PaymentMethod'] =='Monthly', 12, df['PaymentMethod'])"
   ]
  },
  {
   "cell_type": "markdown",
   "id": "098903a4",
   "metadata": {},
   "source": [
    "Converting EducationField values from string to float"
   ]
  },
  {
   "cell_type": "code",
   "execution_count": 22,
   "id": "3bdaca61",
   "metadata": {},
   "outputs": [
    {
     "name": "stdout",
     "output_type": "stream",
     "text": [
      "<class 'pandas.core.frame.DataFrame'>\n",
      "Int64Index: 3447 entries, 0 to 4519\n",
      "Data columns (total 19 columns):\n",
      " #   Column                Non-Null Count  Dtype  \n",
      "---  ------                --------------  -----  \n",
      " 0   AgentBonus            3447 non-null   int64  \n",
      " 1   Age                   3447 non-null   float64\n",
      " 2   CustTenure            3447 non-null   float64\n",
      " 3   Channel               3447 non-null   object \n",
      " 4   Occupation            3447 non-null   object \n",
      " 5   EducationField        3447 non-null   int64  \n",
      " 6   Gender                3447 non-null   object \n",
      " 7   ExistingProdType      3447 non-null   int64  \n",
      " 8   Designation           3447 non-null   object \n",
      " 9   NumberOfPolicy        3447 non-null   float64\n",
      " 10  MaritalStatus         3447 non-null   object \n",
      " 11  MonthlyIncome         3447 non-null   float64\n",
      " 12  Complaint             3447 non-null   int64  \n",
      " 13  ExistingPolicyTenure  3447 non-null   float64\n",
      " 14  SumAssured            3447 non-null   float64\n",
      " 15  Zone                  3447 non-null   object \n",
      " 16  PaymentMethod         3447 non-null   object \n",
      " 17  LastMonthCalls        3447 non-null   int64  \n",
      " 18  CustCareScore         3447 non-null   float64\n",
      "dtypes: float64(7), int64(5), object(7)\n",
      "memory usage: 538.6+ KB\n"
     ]
    }
   ],
   "source": [
    "df['EducationField'] = df['EducationField'].astype('int64')\n",
    "df.info()"
   ]
  },
  {
   "cell_type": "code",
   "execution_count": 23,
   "id": "76f09808",
   "metadata": {},
   "outputs": [
    {
     "data": {
      "text/html": [
       "<div>\n",
       "<style scoped>\n",
       "    .dataframe tbody tr th:only-of-type {\n",
       "        vertical-align: middle;\n",
       "    }\n",
       "\n",
       "    .dataframe tbody tr th {\n",
       "        vertical-align: top;\n",
       "    }\n",
       "\n",
       "    .dataframe thead th {\n",
       "        text-align: right;\n",
       "    }\n",
       "</style>\n",
       "<table border=\"1\" class=\"dataframe\">\n",
       "  <thead>\n",
       "    <tr style=\"text-align: right;\">\n",
       "      <th></th>\n",
       "      <th>AgentBonus</th>\n",
       "      <th>Age</th>\n",
       "      <th>CustTenure</th>\n",
       "      <th>Channel</th>\n",
       "      <th>Occupation</th>\n",
       "      <th>EducationField</th>\n",
       "      <th>Gender</th>\n",
       "      <th>ExistingProdType</th>\n",
       "      <th>Designation</th>\n",
       "      <th>NumberOfPolicy</th>\n",
       "      <th>MaritalStatus</th>\n",
       "      <th>MonthlyIncome</th>\n",
       "      <th>Complaint</th>\n",
       "      <th>ExistingPolicyTenure</th>\n",
       "      <th>SumAssured</th>\n",
       "      <th>Zone</th>\n",
       "      <th>PaymentMethod</th>\n",
       "      <th>LastMonthCalls</th>\n",
       "      <th>CustCareScore</th>\n",
       "    </tr>\n",
       "  </thead>\n",
       "  <tbody>\n",
       "    <tr>\n",
       "      <th>0</th>\n",
       "      <td>4409</td>\n",
       "      <td>22.0</td>\n",
       "      <td>4.0</td>\n",
       "      <td>3</td>\n",
       "      <td>3</td>\n",
       "      <td>2</td>\n",
       "      <td>0</td>\n",
       "      <td>3</td>\n",
       "      <td>1</td>\n",
       "      <td>2.0</td>\n",
       "      <td>0</td>\n",
       "      <td>20993.0</td>\n",
       "      <td>1</td>\n",
       "      <td>2.0</td>\n",
       "      <td>806761.0</td>\n",
       "      <td>1</td>\n",
       "      <td>2</td>\n",
       "      <td>5</td>\n",
       "      <td>2.0</td>\n",
       "    </tr>\n",
       "    <tr>\n",
       "      <th>1</th>\n",
       "      <td>2214</td>\n",
       "      <td>11.0</td>\n",
       "      <td>2.0</td>\n",
       "      <td>1</td>\n",
       "      <td>3</td>\n",
       "      <td>2</td>\n",
       "      <td>1</td>\n",
       "      <td>4</td>\n",
       "      <td>1</td>\n",
       "      <td>4.0</td>\n",
       "      <td>0</td>\n",
       "      <td>20130.0</td>\n",
       "      <td>0</td>\n",
       "      <td>3.0</td>\n",
       "      <td>294502.0</td>\n",
       "      <td>1</td>\n",
       "      <td>1</td>\n",
       "      <td>7</td>\n",
       "      <td>3.0</td>\n",
       "    </tr>\n",
       "    <tr>\n",
       "      <th>6</th>\n",
       "      <td>3850</td>\n",
       "      <td>12.0</td>\n",
       "      <td>23.0</td>\n",
       "      <td>3</td>\n",
       "      <td>3</td>\n",
       "      <td>2</td>\n",
       "      <td>1</td>\n",
       "      <td>4</td>\n",
       "      <td>2</td>\n",
       "      <td>3.0</td>\n",
       "      <td>0</td>\n",
       "      <td>34999.0</td>\n",
       "      <td>0</td>\n",
       "      <td>2.0</td>\n",
       "      <td>392689.0</td>\n",
       "      <td>1</td>\n",
       "      <td>1</td>\n",
       "      <td>9</td>\n",
       "      <td>2.0</td>\n",
       "    </tr>\n",
       "    <tr>\n",
       "      <th>7</th>\n",
       "      <td>2073</td>\n",
       "      <td>6.0</td>\n",
       "      <td>4.0</td>\n",
       "      <td>3</td>\n",
       "      <td>2</td>\n",
       "      <td>1</td>\n",
       "      <td>0</td>\n",
       "      <td>3</td>\n",
       "      <td>2</td>\n",
       "      <td>4.0</td>\n",
       "      <td>0</td>\n",
       "      <td>17279.0</td>\n",
       "      <td>0</td>\n",
       "      <td>2.0</td>\n",
       "      <td>369079.0</td>\n",
       "      <td>2</td>\n",
       "      <td>2</td>\n",
       "      <td>3</td>\n",
       "      <td>3.0</td>\n",
       "    </tr>\n",
       "    <tr>\n",
       "      <th>8</th>\n",
       "      <td>2719</td>\n",
       "      <td>8.0</td>\n",
       "      <td>11.0</td>\n",
       "      <td>3</td>\n",
       "      <td>3</td>\n",
       "      <td>2</td>\n",
       "      <td>1</td>\n",
       "      <td>4</td>\n",
       "      <td>1</td>\n",
       "      <td>3.0</td>\n",
       "      <td>0</td>\n",
       "      <td>20916.0</td>\n",
       "      <td>1</td>\n",
       "      <td>1.0</td>\n",
       "      <td>405143.0</td>\n",
       "      <td>2</td>\n",
       "      <td>1</td>\n",
       "      <td>1</td>\n",
       "      <td>4.0</td>\n",
       "    </tr>\n",
       "    <tr>\n",
       "      <th>...</th>\n",
       "      <td>...</td>\n",
       "      <td>...</td>\n",
       "      <td>...</td>\n",
       "      <td>...</td>\n",
       "      <td>...</td>\n",
       "      <td>...</td>\n",
       "      <td>...</td>\n",
       "      <td>...</td>\n",
       "      <td>...</td>\n",
       "      <td>...</td>\n",
       "      <td>...</td>\n",
       "      <td>...</td>\n",
       "      <td>...</td>\n",
       "      <td>...</td>\n",
       "      <td>...</td>\n",
       "      <td>...</td>\n",
       "      <td>...</td>\n",
       "      <td>...</td>\n",
       "      <td>...</td>\n",
       "    </tr>\n",
       "    <tr>\n",
       "      <th>4514</th>\n",
       "      <td>2541</td>\n",
       "      <td>10.0</td>\n",
       "      <td>3.0</td>\n",
       "      <td>1</td>\n",
       "      <td>3</td>\n",
       "      <td>3</td>\n",
       "      <td>0</td>\n",
       "      <td>2</td>\n",
       "      <td>1</td>\n",
       "      <td>6.0</td>\n",
       "      <td>1</td>\n",
       "      <td>23096.0</td>\n",
       "      <td>0</td>\n",
       "      <td>5.0</td>\n",
       "      <td>276921.0</td>\n",
       "      <td>2</td>\n",
       "      <td>1</td>\n",
       "      <td>14</td>\n",
       "      <td>5.0</td>\n",
       "    </tr>\n",
       "    <tr>\n",
       "      <th>4515</th>\n",
       "      <td>3953</td>\n",
       "      <td>4.0</td>\n",
       "      <td>8.0</td>\n",
       "      <td>3</td>\n",
       "      <td>2</td>\n",
       "      <td>2</td>\n",
       "      <td>1</td>\n",
       "      <td>4</td>\n",
       "      <td>3</td>\n",
       "      <td>2.0</td>\n",
       "      <td>0</td>\n",
       "      <td>26355.0</td>\n",
       "      <td>0</td>\n",
       "      <td>2.0</td>\n",
       "      <td>636473.0</td>\n",
       "      <td>2</td>\n",
       "      <td>1</td>\n",
       "      <td>9</td>\n",
       "      <td>1.0</td>\n",
       "    </tr>\n",
       "    <tr>\n",
       "      <th>4516</th>\n",
       "      <td>2939</td>\n",
       "      <td>9.0</td>\n",
       "      <td>9.0</td>\n",
       "      <td>3</td>\n",
       "      <td>3</td>\n",
       "      <td>1</td>\n",
       "      <td>0</td>\n",
       "      <td>2</td>\n",
       "      <td>2</td>\n",
       "      <td>2.0</td>\n",
       "      <td>1</td>\n",
       "      <td>20991.0</td>\n",
       "      <td>0</td>\n",
       "      <td>3.0</td>\n",
       "      <td>296813.0</td>\n",
       "      <td>1</td>\n",
       "      <td>1</td>\n",
       "      <td>1</td>\n",
       "      <td>3.0</td>\n",
       "    </tr>\n",
       "    <tr>\n",
       "      <th>4518</th>\n",
       "      <td>4816</td>\n",
       "      <td>10.0</td>\n",
       "      <td>10.0</td>\n",
       "      <td>2</td>\n",
       "      <td>2</td>\n",
       "      <td>2</td>\n",
       "      <td>0</td>\n",
       "      <td>4</td>\n",
       "      <td>2</td>\n",
       "      <td>2.0</td>\n",
       "      <td>0</td>\n",
       "      <td>20068.0</td>\n",
       "      <td>0</td>\n",
       "      <td>6.0</td>\n",
       "      <td>943999.0</td>\n",
       "      <td>2</td>\n",
       "      <td>2</td>\n",
       "      <td>1</td>\n",
       "      <td>5.0</td>\n",
       "    </tr>\n",
       "    <tr>\n",
       "      <th>4519</th>\n",
       "      <td>4764</td>\n",
       "      <td>14.0</td>\n",
       "      <td>10.0</td>\n",
       "      <td>3</td>\n",
       "      <td>3</td>\n",
       "      <td>1</td>\n",
       "      <td>0</td>\n",
       "      <td>5</td>\n",
       "      <td>1</td>\n",
       "      <td>2.0</td>\n",
       "      <td>1</td>\n",
       "      <td>23820.0</td>\n",
       "      <td>0</td>\n",
       "      <td>3.0</td>\n",
       "      <td>700308.0</td>\n",
       "      <td>1</td>\n",
       "      <td>2</td>\n",
       "      <td>1</td>\n",
       "      <td>3.0</td>\n",
       "    </tr>\n",
       "  </tbody>\n",
       "</table>\n",
       "<p>3447 rows × 19 columns</p>\n",
       "</div>"
      ],
      "text/plain": [
       "      AgentBonus   Age  CustTenure Channel Occupation  EducationField Gender  \\\n",
       "0           4409  22.0         4.0       3          3               2      0   \n",
       "1           2214  11.0         2.0       1          3               2      1   \n",
       "6           3850  12.0        23.0       3          3               2      1   \n",
       "7           2073   6.0         4.0       3          2               1      0   \n",
       "8           2719   8.0        11.0       3          3               2      1   \n",
       "...          ...   ...         ...     ...        ...             ...    ...   \n",
       "4514        2541  10.0         3.0       1          3               3      0   \n",
       "4515        3953   4.0         8.0       3          2               2      1   \n",
       "4516        2939   9.0         9.0       3          3               1      0   \n",
       "4518        4816  10.0        10.0       2          2               2      0   \n",
       "4519        4764  14.0        10.0       3          3               1      0   \n",
       "\n",
       "      ExistingProdType Designation  NumberOfPolicy MaritalStatus  \\\n",
       "0                    3           1             2.0             0   \n",
       "1                    4           1             4.0             0   \n",
       "6                    4           2             3.0             0   \n",
       "7                    3           2             4.0             0   \n",
       "8                    4           1             3.0             0   \n",
       "...                ...         ...             ...           ...   \n",
       "4514                 2           1             6.0             1   \n",
       "4515                 4           3             2.0             0   \n",
       "4516                 2           2             2.0             1   \n",
       "4518                 4           2             2.0             0   \n",
       "4519                 5           1             2.0             1   \n",
       "\n",
       "      MonthlyIncome  Complaint  ExistingPolicyTenure  SumAssured Zone  \\\n",
       "0           20993.0          1                   2.0    806761.0    1   \n",
       "1           20130.0          0                   3.0    294502.0    1   \n",
       "6           34999.0          0                   2.0    392689.0    1   \n",
       "7           17279.0          0                   2.0    369079.0    2   \n",
       "8           20916.0          1                   1.0    405143.0    2   \n",
       "...             ...        ...                   ...         ...  ...   \n",
       "4514        23096.0          0                   5.0    276921.0    2   \n",
       "4515        26355.0          0                   2.0    636473.0    2   \n",
       "4516        20991.0          0                   3.0    296813.0    1   \n",
       "4518        20068.0          0                   6.0    943999.0    2   \n",
       "4519        23820.0          0                   3.0    700308.0    1   \n",
       "\n",
       "     PaymentMethod  LastMonthCalls  CustCareScore  \n",
       "0                2               5            2.0  \n",
       "1                1               7            3.0  \n",
       "6                1               9            2.0  \n",
       "7                2               3            3.0  \n",
       "8                1               1            4.0  \n",
       "...            ...             ...            ...  \n",
       "4514             1              14            5.0  \n",
       "4515             1               9            1.0  \n",
       "4516             1               1            3.0  \n",
       "4518             2               1            5.0  \n",
       "4519             2               1            3.0  \n",
       "\n",
       "[3447 rows x 19 columns]"
      ]
     },
     "execution_count": 23,
     "metadata": {},
     "output_type": "execute_result"
    }
   ],
   "source": [
    "df"
   ]
  },
  {
   "cell_type": "code",
   "execution_count": 24,
   "id": "c41815dd",
   "metadata": {},
   "outputs": [
    {
     "data": {
      "text/html": [
       "<div>\n",
       "<style scoped>\n",
       "    .dataframe tbody tr th:only-of-type {\n",
       "        vertical-align: middle;\n",
       "    }\n",
       "\n",
       "    .dataframe tbody tr th {\n",
       "        vertical-align: top;\n",
       "    }\n",
       "\n",
       "    .dataframe thead th {\n",
       "        text-align: right;\n",
       "    }\n",
       "</style>\n",
       "<table border=\"1\" class=\"dataframe\">\n",
       "  <thead>\n",
       "    <tr style=\"text-align: right;\">\n",
       "      <th></th>\n",
       "      <th>AgentBonus</th>\n",
       "      <th>Age</th>\n",
       "      <th>CustTenure</th>\n",
       "      <th>Channel</th>\n",
       "      <th>Occupation</th>\n",
       "      <th>EducationField</th>\n",
       "      <th>Gender</th>\n",
       "      <th>ExistingProdType</th>\n",
       "      <th>Designation</th>\n",
       "      <th>NumberOfPolicy</th>\n",
       "      <th>MaritalStatus</th>\n",
       "      <th>MonthlyIncome</th>\n",
       "      <th>Complaint</th>\n",
       "      <th>ExistingPolicyTenure</th>\n",
       "      <th>SumAssured</th>\n",
       "      <th>Zone</th>\n",
       "      <th>PaymentMethod</th>\n",
       "      <th>LastMonthCalls</th>\n",
       "      <th>CustCareScore</th>\n",
       "    </tr>\n",
       "  </thead>\n",
       "  <tbody>\n",
       "    <tr>\n",
       "      <th>0</th>\n",
       "      <td>4409</td>\n",
       "      <td>22.0</td>\n",
       "      <td>4.0</td>\n",
       "      <td>3</td>\n",
       "      <td>3</td>\n",
       "      <td>2</td>\n",
       "      <td>0</td>\n",
       "      <td>3</td>\n",
       "      <td>1</td>\n",
       "      <td>2.0</td>\n",
       "      <td>0</td>\n",
       "      <td>20993.0</td>\n",
       "      <td>1</td>\n",
       "      <td>2.0</td>\n",
       "      <td>806761.0</td>\n",
       "      <td>1</td>\n",
       "      <td>2</td>\n",
       "      <td>5</td>\n",
       "      <td>2.0</td>\n",
       "    </tr>\n",
       "    <tr>\n",
       "      <th>1</th>\n",
       "      <td>2214</td>\n",
       "      <td>11.0</td>\n",
       "      <td>2.0</td>\n",
       "      <td>1</td>\n",
       "      <td>3</td>\n",
       "      <td>2</td>\n",
       "      <td>1</td>\n",
       "      <td>4</td>\n",
       "      <td>1</td>\n",
       "      <td>4.0</td>\n",
       "      <td>0</td>\n",
       "      <td>20130.0</td>\n",
       "      <td>0</td>\n",
       "      <td>3.0</td>\n",
       "      <td>294502.0</td>\n",
       "      <td>1</td>\n",
       "      <td>1</td>\n",
       "      <td>7</td>\n",
       "      <td>3.0</td>\n",
       "    </tr>\n",
       "    <tr>\n",
       "      <th>6</th>\n",
       "      <td>3850</td>\n",
       "      <td>12.0</td>\n",
       "      <td>23.0</td>\n",
       "      <td>3</td>\n",
       "      <td>3</td>\n",
       "      <td>2</td>\n",
       "      <td>1</td>\n",
       "      <td>4</td>\n",
       "      <td>2</td>\n",
       "      <td>3.0</td>\n",
       "      <td>0</td>\n",
       "      <td>34999.0</td>\n",
       "      <td>0</td>\n",
       "      <td>2.0</td>\n",
       "      <td>392689.0</td>\n",
       "      <td>1</td>\n",
       "      <td>1</td>\n",
       "      <td>9</td>\n",
       "      <td>2.0</td>\n",
       "    </tr>\n",
       "    <tr>\n",
       "      <th>7</th>\n",
       "      <td>2073</td>\n",
       "      <td>6.0</td>\n",
       "      <td>4.0</td>\n",
       "      <td>3</td>\n",
       "      <td>2</td>\n",
       "      <td>1</td>\n",
       "      <td>0</td>\n",
       "      <td>3</td>\n",
       "      <td>2</td>\n",
       "      <td>4.0</td>\n",
       "      <td>0</td>\n",
       "      <td>17279.0</td>\n",
       "      <td>0</td>\n",
       "      <td>2.0</td>\n",
       "      <td>369079.0</td>\n",
       "      <td>2</td>\n",
       "      <td>2</td>\n",
       "      <td>3</td>\n",
       "      <td>3.0</td>\n",
       "    </tr>\n",
       "    <tr>\n",
       "      <th>8</th>\n",
       "      <td>2719</td>\n",
       "      <td>8.0</td>\n",
       "      <td>11.0</td>\n",
       "      <td>3</td>\n",
       "      <td>3</td>\n",
       "      <td>2</td>\n",
       "      <td>1</td>\n",
       "      <td>4</td>\n",
       "      <td>1</td>\n",
       "      <td>3.0</td>\n",
       "      <td>0</td>\n",
       "      <td>20916.0</td>\n",
       "      <td>1</td>\n",
       "      <td>1.0</td>\n",
       "      <td>405143.0</td>\n",
       "      <td>2</td>\n",
       "      <td>1</td>\n",
       "      <td>1</td>\n",
       "      <td>4.0</td>\n",
       "    </tr>\n",
       "  </tbody>\n",
       "</table>\n",
       "</div>"
      ],
      "text/plain": [
       "   AgentBonus   Age  CustTenure Channel Occupation  EducationField Gender  \\\n",
       "0        4409  22.0         4.0       3          3               2      0   \n",
       "1        2214  11.0         2.0       1          3               2      1   \n",
       "6        3850  12.0        23.0       3          3               2      1   \n",
       "7        2073   6.0         4.0       3          2               1      0   \n",
       "8        2719   8.0        11.0       3          3               2      1   \n",
       "\n",
       "   ExistingProdType Designation  NumberOfPolicy MaritalStatus  MonthlyIncome  \\\n",
       "0                 3           1             2.0             0        20993.0   \n",
       "1                 4           1             4.0             0        20130.0   \n",
       "6                 4           2             3.0             0        34999.0   \n",
       "7                 3           2             4.0             0        17279.0   \n",
       "8                 4           1             3.0             0        20916.0   \n",
       "\n",
       "   Complaint  ExistingPolicyTenure  SumAssured Zone PaymentMethod  \\\n",
       "0          1                   2.0    806761.0    1             2   \n",
       "1          0                   3.0    294502.0    1             1   \n",
       "6          0                   2.0    392689.0    1             1   \n",
       "7          0                   2.0    369079.0    2             2   \n",
       "8          1                   1.0    405143.0    2             1   \n",
       "\n",
       "   LastMonthCalls  CustCareScore  \n",
       "0               5            2.0  \n",
       "1               7            3.0  \n",
       "6               9            2.0  \n",
       "7               3            3.0  \n",
       "8               1            4.0  "
      ]
     },
     "execution_count": 24,
     "metadata": {},
     "output_type": "execute_result"
    }
   ],
   "source": [
    "df.head()"
   ]
  },
  {
   "cell_type": "code",
   "execution_count": 25,
   "id": "64f6df2f",
   "metadata": {},
   "outputs": [
    {
     "name": "stderr",
     "output_type": "stream",
     "text": [
      "/Users/rr/opt/anaconda3/lib/python3.9/site-packages/seaborn/_decorators.py:36: FutureWarning: Pass the following variable as a keyword arg: x. From version 0.12, the only valid positional argument will be `data`, and passing other arguments without an explicit keyword will result in an error or misinterpretation.\n",
      "  warnings.warn(\n"
     ]
    },
    {
     "data": {
      "image/png": "[encoded data removed]",
      "text/plain": [
       "<Figure size 640x480 with 1 Axes>"
      ]
     },
     "metadata": {},
     "output_type": "display_data"
    },
    {
     "name": "stderr",
     "output_type": "stream",
     "text": [
      "/Users/rr/opt/anaconda3/lib/python3.9/site-packages/seaborn/_decorators.py:36: FutureWarning: Pass the following variable as a keyword arg: x. From version 0.12, the only valid positional argument will be `data`, and passing other arguments without an explicit keyword will result in an error or misinterpretation.\n",
      "  warnings.warn(\n"
     ]
    },
    {
     "data": {
      "image/png": "[encoded data removed]",
      "text/plain": [
       "<Figure size 640x480 with 1 Axes>"
      ]
     },
     "metadata": {},
     "output_type": "display_data"
    },
    {
     "name": "stderr",
     "output_type": "stream",
     "text": [
      "/Users/rr/opt/anaconda3/lib/python3.9/site-packages/seaborn/_decorators.py:36: FutureWarning: Pass the following variable as a keyword arg: x. From version 0.12, the only valid positional argument will be `data`, and passing other arguments without an explicit keyword will result in an error or misinterpretation.\n",
      "  warnings.warn(\n"
     ]
    },
    {
     "data": {
      "image/png": "[encoded data removed]",
      "text/plain": [
       "<Figure size 640x480 with 1 Axes>"
      ]
     },
     "metadata": {},
     "output_type": "display_data"
    },
    {
     "name": "stderr",
     "output_type": "stream",
     "text": [
      "/Users/rr/opt/anaconda3/lib/python3.9/site-packages/seaborn/_decorators.py:36: FutureWarning: Pass the following variable as a keyword arg: x. From version 0.12, the only valid positional argument will be `data`, and passing other arguments without an explicit keyword will result in an error or misinterpretation.\n",
      "  warnings.warn(\n"
     ]
    },
    {
     "data": {
      "image/png": "[encoded data removed]",
      "text/plain": [
       "<Figure size 640x480 with 1 Axes>"
      ]
     },
     "metadata": {},
     "output_type": "display_data"
    },
    {
     "name": "stderr",
     "output_type": "stream",
     "text": [
      "/Users/rr/opt/anaconda3/lib/python3.9/site-packages/seaborn/_decorators.py:36: FutureWarning: Pass the following variable as a keyword arg: x. From version 0.12, the only valid positional argument will be `data`, and passing other arguments without an explicit keyword will result in an error or misinterpretation.\n",
      "  warnings.warn(\n"
     ]
    },
    {
     "data": {
      "image/png": "[encoded data removed]",
      "text/plain": [
       "<Figure size 640x480 with 1 Axes>"
      ]
     },
     "metadata": {},
     "output_type": "display_data"
    },
    {
     "name": "stderr",
     "output_type": "stream",
     "text": [
      "/Users/rr/opt/anaconda3/lib/python3.9/site-packages/seaborn/_decorators.py:36: FutureWarning: Pass the following variable as a keyword arg: x. From version 0.12, the only valid positional argument will be `data`, and passing other arguments without an explicit keyword will result in an error or misinterpretation.\n",
      "  warnings.warn(\n"
     ]
    },
    {
     "data": {
      "image/png": "[encoded data removed]",
      "text/plain": [
       "<Figure size 640x480 with 1 Axes>"
      ]
     },
     "metadata": {},
     "output_type": "display_data"
    },
    {
     "name": "stderr",
     "output_type": "stream",
     "text": [
      "/Users/rr/opt/anaconda3/lib/python3.9/site-packages/seaborn/_decorators.py:36: FutureWarning: Pass the following variable as a keyword arg: x. From version 0.12, the only valid positional argument will be `data`, and passing other arguments without an explicit keyword will result in an error or misinterpretation.\n",
      "  warnings.warn(\n"
     ]
    },
    {
     "data": {
      "image/png": "[encoded data removed]",
      "text/plain": [
       "<Figure size 640x480 with 1 Axes>"
      ]
     },
     "metadata": {},
     "output_type": "display_data"
    },
    {
     "name": "stderr",
     "output_type": "stream",
     "text": [
      "/Users/rr/opt/anaconda3/lib/python3.9/site-packages/seaborn/_decorators.py:36: FutureWarning: Pass the following variable as a keyword arg: x. From version 0.12, the only valid positional argument will be `data`, and passing other arguments without an explicit keyword will result in an error or misinterpretation.\n",
      "  warnings.warn(\n"
     ]
    },
    {
     "data": {
      "image/png": "[encoded data removed]",
      "text/plain": [
       "<Figure size 640x480 with 1 Axes>"
      ]
     },
     "metadata": {},
     "output_type": "display_data"
    },
    {
     "name": "stderr",
     "output_type": "stream",
     "text": [
      "/Users/rr/opt/anaconda3/lib/python3.9/site-packages/seaborn/_decorators.py:36: FutureWarning: Pass the following variable as a keyword arg: x. From version 0.12, the only valid positional argument will be `data`, and passing other arguments without an explicit keyword will result in an error or misinterpretation.\n",
      "  warnings.warn(\n"
     ]
    },
    {
     "data": {
      "image/png": "[encoded data removed]",
      "text/plain": [
       "<Figure size 640x480 with 1 Axes>"
      ]
     },
     "metadata": {},
     "output_type": "display_data"
    },
    {
     "name": "stderr",
     "output_type": "stream",
     "text": [
      "/Users/rr/opt/anaconda3/lib/python3.9/site-packages/seaborn/_decorators.py:36: FutureWarning: Pass the following variable as a keyword arg: x. From version 0.12, the only valid positional argument will be `data`, and passing other arguments without an explicit keyword will result in an error or misinterpretation.\n",
      "  warnings.warn(\n"
     ]
    },
    {
     "data": {
      "image/png": "[encoded data removed]",
      "text/plain": [
       "<Figure size 640x480 with 1 Axes>"
      ]
     },
     "metadata": {},
     "output_type": "display_data"
    },
    {
     "name": "stderr",
     "output_type": "stream",
     "text": [
      "/Users/rr/opt/anaconda3/lib/python3.9/site-packages/seaborn/_decorators.py:36: FutureWarning: Pass the following variable as a keyword arg: x. From version 0.12, the only valid positional argument will be `data`, and passing other arguments without an explicit keyword will result in an error or misinterpretation.\n",
      "  warnings.warn(\n"
     ]
    },
    {
     "data": {
      "image/png": "[encoded data removed]",
      "text/plain": [
       "<Figure size 640x480 with 1 Axes>"
      ]
     },
     "metadata": {},
     "output_type": "display_data"
    },
    {
     "name": "stderr",
     "output_type": "stream",
     "text": [
      "/Users/rr/opt/anaconda3/lib/python3.9/site-packages/seaborn/_decorators.py:36: FutureWarning: Pass the following variable as a keyword arg: x. From version 0.12, the only valid positional argument will be `data`, and passing other arguments without an explicit keyword will result in an error or misinterpretation.\n",
      "  warnings.warn(\n"
     ]
    },
    {
     "data": {
      "image/png": "[encoded data removed]",
      "text/plain": [
       "<Figure size 640x480 with 1 Axes>"
      ]
     },
     "metadata": {},
     "output_type": "display_data"
    },
    {
     "name": "stderr",
     "output_type": "stream",
     "text": [
      "/Users/rr/opt/anaconda3/lib/python3.9/site-packages/seaborn/_decorators.py:36: FutureWarning: Pass the following variable as a keyword arg: x. From version 0.12, the only valid positional argument will be `data`, and passing other arguments without an explicit keyword will result in an error or misinterpretation.\n",
      "  warnings.warn(\n"
     ]
    },
    {
     "data": {
      "image/png": "[encoded data removed]",
      "text/plain": [
       "<Figure size 640x480 with 1 Axes>"
      ]
     },
     "metadata": {},
     "output_type": "display_data"
    },
    {
     "name": "stderr",
     "output_type": "stream",
     "text": [
      "/Users/rr/opt/anaconda3/lib/python3.9/site-packages/seaborn/_decorators.py:36: FutureWarning: Pass the following variable as a keyword arg: x. From version 0.12, the only valid positional argument will be `data`, and passing other arguments without an explicit keyword will result in an error or misinterpretation.\n",
      "  warnings.warn(\n"
     ]
    },
    {
     "data": {
      "image/png": "[encoded data removed]",
      "text/plain": [
       "<Figure size 640x480 with 1 Axes>"
      ]
     },
     "metadata": {},
     "output_type": "display_data"
    },
    {
     "name": "stderr",
     "output_type": "stream",
     "text": [
      "/Users/rr/opt/anaconda3/lib/python3.9/site-packages/seaborn/_decorators.py:36: FutureWarning: Pass the following variable as a keyword arg: x. From version 0.12, the only valid positional argument will be `data`, and passing other arguments without an explicit keyword will result in an error or misinterpretation.\n",
      "  warnings.warn(\n"
     ]
    },
    {
     "data": {
      "image/png": "[encoded data removed]",
      "text/plain": [
       "<Figure size 640x480 with 1 Axes>"
      ]
     },
     "metadata": {},
     "output_type": "display_data"
    },
    {
     "name": "stderr",
     "output_type": "stream",
     "text": [
      "/Users/rr/opt/anaconda3/lib/python3.9/site-packages/seaborn/_decorators.py:36: FutureWarning: Pass the following variable as a keyword arg: x. From version 0.12, the only valid positional argument will be `data`, and passing other arguments without an explicit keyword will result in an error or misinterpretation.\n",
      "  warnings.warn(\n"
     ]
    },
    {
     "data": {
      "image/png": "[encoded data removed]",
      "text/plain": [
       "<Figure size 640x480 with 1 Axes>"
      ]
     },
     "metadata": {},
     "output_type": "display_data"
    },
    {
     "name": "stderr",
     "output_type": "stream",
     "text": [
      "/Users/rr/opt/anaconda3/lib/python3.9/site-packages/seaborn/_decorators.py:36: FutureWarning: Pass the following variable as a keyword arg: x. From version 0.12, the only valid positional argument will be `data`, and passing other arguments without an explicit keyword will result in an error or misinterpretation.\n",
      "  warnings.warn(\n"
     ]
    },
    {
     "data": {
      "image/png": "[encoded data removed]",
      "text/plain": [
       "<Figure size 640x480 with 1 Axes>"
      ]
     },
     "metadata": {},
     "output_type": "display_data"
    },
    {
     "name": "stderr",
     "output_type": "stream",
     "text": [
      "/Users/rr/opt/anaconda3/lib/python3.9/site-packages/seaborn/_decorators.py:36: FutureWarning: Pass the following variable as a keyword arg: x. From version 0.12, the only valid positional argument will be `data`, and passing other arguments without an explicit keyword will result in an error or misinterpretation.\n",
      "  warnings.warn(\n"
     ]
    },
    {
     "data": {
      "image/png": "[encoded data removed]",
      "text/plain": [
       "<Figure size 640x480 with 1 Axes>"
      ]
     },
     "metadata": {},
     "output_type": "display_data"
    },
    {
     "name": "stderr",
     "output_type": "stream",
     "text": [
      "/Users/rr/opt/anaconda3/lib/python3.9/site-packages/seaborn/_decorators.py:36: FutureWarning: Pass the following variable as a keyword arg: x. From version 0.12, the only valid positional argument will be `data`, and passing other arguments without an explicit keyword will result in an error or misinterpretation.\n",
      "  warnings.warn(\n"
     ]
    },
    {
     "data": {
      "image/png": "[encoded data removed]",
      "text/plain": [
       "<Figure size 640x480 with 1 Axes>"
      ]
     },
     "metadata": {},
     "output_type": "display_data"
    }
   ],
   "source": [
    "cols = ['AgentBonus', 'Age', 'CustTenure', 'Channel', 'Occupation',\n",
    "       'EducationField', 'Gender', 'ExistingProdType', 'Designation',\n",
    "       'NumberOfPolicy', 'MaritalStatus', 'MonthlyIncome', 'Complaint',\n",
    "       'ExistingPolicyTenure', 'SumAssured', 'Zone', 'PaymentMethod',\n",
    "       'LastMonthCalls', 'CustCareScore']\n",
    "for i in cols:\n",
    "    sns.boxplot(df[i],whis=1.5)\n",
    "    plt.grid()\n",
    "    plt.show();"
   ]
  },
  {
   "cell_type": "markdown",
   "id": "db2c7de9",
   "metadata": {},
   "source": [
    "Handles what all variables are to be considered for estimating the bonus"
   ]
  },
  {
   "cell_type": "code",
   "execution_count": 26,
   "id": "a848500f",
   "metadata": {},
   "outputs": [],
   "source": [
    "le = LabelEncoder()\n",
    "df['Channel_encoded'] = le.fit_transform(df['Channel'])\n",
    "#X=dataset.drop(columns=['AgentBonus'])\n",
    "from sklearn.preprocessing import LabelEncoder\n",
    "X = df.loc[:,['Age','MonthlyIncome','SumAssured','Gender','Channel','LastMonthCalls','ExistingProdType','Occupation','Complaint','PaymentMethod','Designation','EducationField','Zone','NumberOfPolicy','MaritalStatus','CustTenure', 'Channel_encoded']]\n",
    "y=df['AgentBonus']"
   ]
  },
  {
   "cell_type": "code",
   "execution_count": 27,
   "id": "952a7f22",
   "metadata": {},
   "outputs": [],
   "source": [
    "# x=df.iloc[:,:-1].values  \n",
    "# y=df.iloc[:,-1].values "
   ]
  },
  {
   "cell_type": "code",
   "execution_count": 28,
   "id": "214000ec",
   "metadata": {},
   "outputs": [],
   "source": [
    "X_train,X_test,y_train,y_test=train_test_split(X,y,test_size=0.2,random_state=0)"
   ]
  },
  {
   "cell_type": "code",
   "execution_count": 29,
   "id": "6624d403",
   "metadata": {},
   "outputs": [
    {
     "data": {
      "text/html": [
       "<div>\n",
       "<style scoped>\n",
       "    .dataframe tbody tr th:only-of-type {\n",
       "        vertical-align: middle;\n",
       "    }\n",
       "\n",
       "    .dataframe tbody tr th {\n",
       "        vertical-align: top;\n",
       "    }\n",
       "\n",
       "    .dataframe thead th {\n",
       "        text-align: right;\n",
       "    }\n",
       "</style>\n",
       "<table border=\"1\" class=\"dataframe\">\n",
       "  <thead>\n",
       "    <tr style=\"text-align: right;\">\n",
       "      <th></th>\n",
       "      <th>Age</th>\n",
       "      <th>MonthlyIncome</th>\n",
       "      <th>SumAssured</th>\n",
       "      <th>Gender</th>\n",
       "      <th>Channel</th>\n",
       "      <th>LastMonthCalls</th>\n",
       "      <th>ExistingProdType</th>\n",
       "      <th>Occupation</th>\n",
       "      <th>Complaint</th>\n",
       "      <th>PaymentMethod</th>\n",
       "      <th>Designation</th>\n",
       "      <th>EducationField</th>\n",
       "      <th>Zone</th>\n",
       "      <th>NumberOfPolicy</th>\n",
       "      <th>MaritalStatus</th>\n",
       "      <th>CustTenure</th>\n",
       "      <th>Channel_encoded</th>\n",
       "    </tr>\n",
       "  </thead>\n",
       "  <tbody>\n",
       "    <tr>\n",
       "      <th>998</th>\n",
       "      <td>15.0</td>\n",
       "      <td>19374.0</td>\n",
       "      <td>450833.0</td>\n",
       "      <td>0</td>\n",
       "      <td>2</td>\n",
       "      <td>2</td>\n",
       "      <td>4</td>\n",
       "      <td>2</td>\n",
       "      <td>0</td>\n",
       "      <td>1</td>\n",
       "      <td>1</td>\n",
       "      <td>1</td>\n",
       "      <td>2</td>\n",
       "      <td>3.0</td>\n",
       "      <td>1</td>\n",
       "      <td>3.0</td>\n",
       "      <td>1</td>\n",
       "    </tr>\n",
       "    <tr>\n",
       "      <th>3145</th>\n",
       "      <td>10.0</td>\n",
       "      <td>20020.0</td>\n",
       "      <td>445845.0</td>\n",
       "      <td>1</td>\n",
       "      <td>3</td>\n",
       "      <td>1</td>\n",
       "      <td>5</td>\n",
       "      <td>3</td>\n",
       "      <td>0</td>\n",
       "      <td>1</td>\n",
       "      <td>2</td>\n",
       "      <td>2</td>\n",
       "      <td>1</td>\n",
       "      <td>4.0</td>\n",
       "      <td>1</td>\n",
       "      <td>14.0</td>\n",
       "      <td>2</td>\n",
       "    </tr>\n",
       "    <tr>\n",
       "      <th>120</th>\n",
       "      <td>6.0</td>\n",
       "      <td>24613.0</td>\n",
       "      <td>664551.0</td>\n",
       "      <td>1</td>\n",
       "      <td>3</td>\n",
       "      <td>7</td>\n",
       "      <td>2</td>\n",
       "      <td>2</td>\n",
       "      <td>0</td>\n",
       "      <td>4</td>\n",
       "      <td>3</td>\n",
       "      <td>1</td>\n",
       "      <td>2</td>\n",
       "      <td>2.0</td>\n",
       "      <td>1</td>\n",
       "      <td>31.0</td>\n",
       "      <td>2</td>\n",
       "    </tr>\n",
       "    <tr>\n",
       "      <th>1487</th>\n",
       "      <td>14.0</td>\n",
       "      <td>21804.0</td>\n",
       "      <td>308963.0</td>\n",
       "      <td>1</td>\n",
       "      <td>2</td>\n",
       "      <td>7</td>\n",
       "      <td>3</td>\n",
       "      <td>3</td>\n",
       "      <td>1</td>\n",
       "      <td>2</td>\n",
       "      <td>1</td>\n",
       "      <td>2</td>\n",
       "      <td>1</td>\n",
       "      <td>1.0</td>\n",
       "      <td>1</td>\n",
       "      <td>6.0</td>\n",
       "      <td>1</td>\n",
       "    </tr>\n",
       "    <tr>\n",
       "      <th>43</th>\n",
       "      <td>4.0</td>\n",
       "      <td>22918.0</td>\n",
       "      <td>599993.0</td>\n",
       "      <td>0</td>\n",
       "      <td>1</td>\n",
       "      <td>1</td>\n",
       "      <td>3</td>\n",
       "      <td>2</td>\n",
       "      <td>0</td>\n",
       "      <td>2</td>\n",
       "      <td>3</td>\n",
       "      <td>1</td>\n",
       "      <td>2</td>\n",
       "      <td>2.0</td>\n",
       "      <td>0</td>\n",
       "      <td>16.0</td>\n",
       "      <td>0</td>\n",
       "    </tr>\n",
       "    <tr>\n",
       "      <th>...</th>\n",
       "      <td>...</td>\n",
       "      <td>...</td>\n",
       "      <td>...</td>\n",
       "      <td>...</td>\n",
       "      <td>...</td>\n",
       "      <td>...</td>\n",
       "      <td>...</td>\n",
       "      <td>...</td>\n",
       "      <td>...</td>\n",
       "      <td>...</td>\n",
       "      <td>...</td>\n",
       "      <td>...</td>\n",
       "      <td>...</td>\n",
       "      <td>...</td>\n",
       "      <td>...</td>\n",
       "      <td>...</td>\n",
       "      <td>...</td>\n",
       "    </tr>\n",
       "    <tr>\n",
       "      <th>1353</th>\n",
       "      <td>23.0</td>\n",
       "      <td>24724.0</td>\n",
       "      <td>657658.0</td>\n",
       "      <td>1</td>\n",
       "      <td>3</td>\n",
       "      <td>0</td>\n",
       "      <td>3</td>\n",
       "      <td>3</td>\n",
       "      <td>0</td>\n",
       "      <td>2</td>\n",
       "      <td>3</td>\n",
       "      <td>2</td>\n",
       "      <td>2</td>\n",
       "      <td>5.0</td>\n",
       "      <td>1</td>\n",
       "      <td>5.0</td>\n",
       "      <td>2</td>\n",
       "    </tr>\n",
       "    <tr>\n",
       "      <th>4325</th>\n",
       "      <td>31.0</td>\n",
       "      <td>20918.0</td>\n",
       "      <td>554327.0</td>\n",
       "      <td>1</td>\n",
       "      <td>3</td>\n",
       "      <td>8</td>\n",
       "      <td>4</td>\n",
       "      <td>3</td>\n",
       "      <td>1</td>\n",
       "      <td>2</td>\n",
       "      <td>2</td>\n",
       "      <td>2</td>\n",
       "      <td>2</td>\n",
       "      <td>4.0</td>\n",
       "      <td>1</td>\n",
       "      <td>31.0</td>\n",
       "      <td>2</td>\n",
       "    </tr>\n",
       "    <tr>\n",
       "      <th>2553</th>\n",
       "      <td>32.0</td>\n",
       "      <td>36657.0</td>\n",
       "      <td>814519.0</td>\n",
       "      <td>1</td>\n",
       "      <td>1</td>\n",
       "      <td>8</td>\n",
       "      <td>4</td>\n",
       "      <td>2</td>\n",
       "      <td>0</td>\n",
       "      <td>2</td>\n",
       "      <td>2</td>\n",
       "      <td>1</td>\n",
       "      <td>2</td>\n",
       "      <td>5.0</td>\n",
       "      <td>0</td>\n",
       "      <td>48.0</td>\n",
       "      <td>0</td>\n",
       "    </tr>\n",
       "    <tr>\n",
       "      <th>3593</th>\n",
       "      <td>10.0</td>\n",
       "      <td>21479.0</td>\n",
       "      <td>563609.0</td>\n",
       "      <td>1</td>\n",
       "      <td>3</td>\n",
       "      <td>1</td>\n",
       "      <td>4</td>\n",
       "      <td>3</td>\n",
       "      <td>0</td>\n",
       "      <td>2</td>\n",
       "      <td>2</td>\n",
       "      <td>2</td>\n",
       "      <td>1</td>\n",
       "      <td>5.0</td>\n",
       "      <td>1</td>\n",
       "      <td>10.0</td>\n",
       "      <td>2</td>\n",
       "    </tr>\n",
       "    <tr>\n",
       "      <th>3729</th>\n",
       "      <td>29.0</td>\n",
       "      <td>22147.0</td>\n",
       "      <td>789319.0</td>\n",
       "      <td>1</td>\n",
       "      <td>3</td>\n",
       "      <td>3</td>\n",
       "      <td>5</td>\n",
       "      <td>2</td>\n",
       "      <td>0</td>\n",
       "      <td>1</td>\n",
       "      <td>2</td>\n",
       "      <td>1</td>\n",
       "      <td>2</td>\n",
       "      <td>4.0</td>\n",
       "      <td>1</td>\n",
       "      <td>10.0</td>\n",
       "      <td>2</td>\n",
       "    </tr>\n",
       "  </tbody>\n",
       "</table>\n",
       "<p>2757 rows × 17 columns</p>\n",
       "</div>"
      ],
      "text/plain": [
       "       Age  MonthlyIncome  SumAssured Gender Channel  LastMonthCalls  \\\n",
       "998   15.0        19374.0    450833.0      0       2               2   \n",
       "3145  10.0        20020.0    445845.0      1       3               1   \n",
       "120    6.0        24613.0    664551.0      1       3               7   \n",
       "1487  14.0        21804.0    308963.0      1       2               7   \n",
       "43     4.0        22918.0    599993.0      0       1               1   \n",
       "...    ...            ...         ...    ...     ...             ...   \n",
       "1353  23.0        24724.0    657658.0      1       3               0   \n",
       "4325  31.0        20918.0    554327.0      1       3               8   \n",
       "2553  32.0        36657.0    814519.0      1       1               8   \n",
       "3593  10.0        21479.0    563609.0      1       3               1   \n",
       "3729  29.0        22147.0    789319.0      1       3               3   \n",
       "\n",
       "      ExistingProdType Occupation  Complaint PaymentMethod Designation  \\\n",
       "998                  4          2          0             1           1   \n",
       "3145                 5          3          0             1           2   \n",
       "120                  2          2          0             4           3   \n",
       "1487                 3          3          1             2           1   \n",
       "43                   3          2          0             2           3   \n",
       "...                ...        ...        ...           ...         ...   \n",
       "1353                 3          3          0             2           3   \n",
       "4325                 4          3          1             2           2   \n",
       "2553                 4          2          0             2           2   \n",
       "3593                 4          3          0             2           2   \n",
       "3729                 5          2          0             1           2   \n",
       "\n",
       "      EducationField Zone  NumberOfPolicy MaritalStatus  CustTenure  \\\n",
       "998                1    2             3.0             1         3.0   \n",
       "3145               2    1             4.0             1        14.0   \n",
       "120                1    2             2.0             1        31.0   \n",
       "1487               2    1             1.0             1         6.0   \n",
       "43                 1    2             2.0             0        16.0   \n",
       "...              ...  ...             ...           ...         ...   \n",
       "1353               2    2             5.0             1         5.0   \n",
       "4325               2    2             4.0             1        31.0   \n",
       "2553               1    2             5.0             0        48.0   \n",
       "3593               2    1             5.0             1        10.0   \n",
       "3729               1    2             4.0             1        10.0   \n",
       "\n",
       "      Channel_encoded  \n",
       "998                 1  \n",
       "3145                2  \n",
       "120                 2  \n",
       "1487                1  \n",
       "43                  0  \n",
       "...               ...  \n",
       "1353                2  \n",
       "4325                2  \n",
       "2553                0  \n",
       "3593                2  \n",
       "3729                2  \n",
       "\n",
       "[2757 rows x 17 columns]"
      ]
     },
     "execution_count": 29,
     "metadata": {},
     "output_type": "execute_result"
    }
   ],
   "source": [
    "X_train"
   ]
  },
  {
   "cell_type": "code",
   "execution_count": 30,
   "id": "6ae572f3",
   "metadata": {},
   "outputs": [],
   "source": [
    "from sklearn.preprocessing import StandardScaler\n",
    "sc = StandardScaler()\n",
    "X_train = sc.fit_transform(X_train)"
   ]
  },
  {
   "cell_type": "code",
   "execution_count": 31,
   "id": "b858d800",
   "metadata": {},
   "outputs": [
    {
     "data": {
      "text/plain": [
       "LogisticRegression(random_state=0)"
      ]
     },
     "execution_count": 31,
     "metadata": {},
     "output_type": "execute_result"
    }
   ],
   "source": [
    "from sklearn.linear_model import LogisticRegression\n",
    "classifier = LogisticRegression(random_state = 0)\n",
    "classifier.fit(X_train, y_train)"
   ]
  },
  {
   "cell_type": "code",
   "execution_count": 32,
   "id": "fb8e30af",
   "metadata": {},
   "outputs": [],
   "source": [
    "from sklearn.preprocessing import LabelEncoder\n",
    "\n",
    "## Defining a Label Encoder object instance\n",
    "LE = LabelEncoder()"
   ]
  },
  {
   "cell_type": "code",
   "execution_count": 33,
   "id": "6d4b270d",
   "metadata": {},
   "outputs": [
    {
     "name": "stdout",
     "output_type": "stream",
     "text": [
      "[[7214 7111]\n",
      " [7214 2862]\n",
      " [7214 4115]\n",
      " ...\n",
      " [7214 5888]\n",
      " [7214 4821]\n",
      " [7214 5329]]\n"
     ]
    },
    {
     "name": "stderr",
     "output_type": "stream",
     "text": [
      "/Users/rr/opt/anaconda3/lib/python3.9/site-packages/sklearn/base.py:443: UserWarning: X has feature names, but LogisticRegression was fitted without feature names\n",
      "  warnings.warn(\n"
     ]
    }
   ],
   "source": [
    "y_pred = classifier.predict(X_test)\n",
    "\n",
    "print(np.concatenate((np.array(y_pred).reshape(len(y_pred),1), np.array(y_test).reshape(len(y_test),1)),1))"
   ]
  },
  {
   "cell_type": "code",
   "execution_count": 34,
   "id": "0dfe6ad7",
   "metadata": {},
   "outputs": [
    {
     "name": "stdout",
     "output_type": "stream",
     "text": [
      "[[0 0 0 ... 0 0 0]\n",
      " [0 0 0 ... 0 0 0]\n",
      " [0 0 0 ... 0 0 0]\n",
      " ...\n",
      " [0 0 0 ... 0 0 0]\n",
      " [0 0 0 ... 0 0 0]\n",
      " [0 0 0 ... 0 0 0]]\n"
     ]
    },
    {
     "data": {
      "text/plain": [
       "0.0"
      ]
     },
     "execution_count": 34,
     "metadata": {},
     "output_type": "execute_result"
    }
   ],
   "source": [
    "from sklearn.metrics import confusion_matrix,accuracy_score\n",
    "cm=confusion_matrix(y_test,y_pred) \n",
    "print(cm)\n",
    "accuracy_score(y_test,y_pred)"
   ]
  },
  {
   "cell_type": "code",
   "execution_count": 35,
   "id": "0e2ec2d3",
   "metadata": {},
   "outputs": [
    {
     "data": {
      "text/html": [
       "<div>\n",
       "<style scoped>\n",
       "    .dataframe tbody tr th:only-of-type {\n",
       "        vertical-align: middle;\n",
       "    }\n",
       "\n",
       "    .dataframe tbody tr th {\n",
       "        vertical-align: top;\n",
       "    }\n",
       "\n",
       "    .dataframe thead th {\n",
       "        text-align: right;\n",
       "    }\n",
       "</style>\n",
       "<table border=\"1\" class=\"dataframe\">\n",
       "  <thead>\n",
       "    <tr style=\"text-align: right;\">\n",
       "      <th></th>\n",
       "      <th>AgentBonus</th>\n",
       "      <th>Age</th>\n",
       "      <th>CustTenure</th>\n",
       "      <th>Channel</th>\n",
       "      <th>Occupation</th>\n",
       "      <th>EducationField</th>\n",
       "      <th>Gender</th>\n",
       "      <th>ExistingProdType</th>\n",
       "      <th>Designation</th>\n",
       "      <th>NumberOfPolicy</th>\n",
       "      <th>MaritalStatus</th>\n",
       "      <th>MonthlyIncome</th>\n",
       "      <th>Complaint</th>\n",
       "      <th>ExistingPolicyTenure</th>\n",
       "      <th>SumAssured</th>\n",
       "      <th>Zone</th>\n",
       "      <th>PaymentMethod</th>\n",
       "      <th>LastMonthCalls</th>\n",
       "      <th>CustCareScore</th>\n",
       "      <th>Channel_encoded</th>\n",
       "    </tr>\n",
       "  </thead>\n",
       "  <tbody>\n",
       "    <tr>\n",
       "      <th>0</th>\n",
       "      <td>1414</td>\n",
       "      <td>22.0</td>\n",
       "      <td>4.0</td>\n",
       "      <td>3</td>\n",
       "      <td>3</td>\n",
       "      <td>2</td>\n",
       "      <td>0</td>\n",
       "      <td>3</td>\n",
       "      <td>1</td>\n",
       "      <td>2.0</td>\n",
       "      <td>0</td>\n",
       "      <td>20993.0</td>\n",
       "      <td>1</td>\n",
       "      <td>2.0</td>\n",
       "      <td>806761.0</td>\n",
       "      <td>1</td>\n",
       "      <td>2</td>\n",
       "      <td>5</td>\n",
       "      <td>2.0</td>\n",
       "      <td>2</td>\n",
       "    </tr>\n",
       "    <tr>\n",
       "      <th>1</th>\n",
       "      <td>124</td>\n",
       "      <td>11.0</td>\n",
       "      <td>2.0</td>\n",
       "      <td>1</td>\n",
       "      <td>3</td>\n",
       "      <td>2</td>\n",
       "      <td>1</td>\n",
       "      <td>4</td>\n",
       "      <td>1</td>\n",
       "      <td>4.0</td>\n",
       "      <td>0</td>\n",
       "      <td>20130.0</td>\n",
       "      <td>0</td>\n",
       "      <td>3.0</td>\n",
       "      <td>294502.0</td>\n",
       "      <td>1</td>\n",
       "      <td>1</td>\n",
       "      <td>7</td>\n",
       "      <td>3.0</td>\n",
       "      <td>0</td>\n",
       "    </tr>\n",
       "    <tr>\n",
       "      <th>6</th>\n",
       "      <td>1076</td>\n",
       "      <td>12.0</td>\n",
       "      <td>23.0</td>\n",
       "      <td>3</td>\n",
       "      <td>3</td>\n",
       "      <td>2</td>\n",
       "      <td>1</td>\n",
       "      <td>4</td>\n",
       "      <td>2</td>\n",
       "      <td>3.0</td>\n",
       "      <td>0</td>\n",
       "      <td>34999.0</td>\n",
       "      <td>0</td>\n",
       "      <td>2.0</td>\n",
       "      <td>392689.0</td>\n",
       "      <td>1</td>\n",
       "      <td>1</td>\n",
       "      <td>9</td>\n",
       "      <td>2.0</td>\n",
       "      <td>2</td>\n",
       "    </tr>\n",
       "    <tr>\n",
       "      <th>7</th>\n",
       "      <td>58</td>\n",
       "      <td>6.0</td>\n",
       "      <td>4.0</td>\n",
       "      <td>3</td>\n",
       "      <td>2</td>\n",
       "      <td>1</td>\n",
       "      <td>0</td>\n",
       "      <td>3</td>\n",
       "      <td>2</td>\n",
       "      <td>4.0</td>\n",
       "      <td>0</td>\n",
       "      <td>17279.0</td>\n",
       "      <td>0</td>\n",
       "      <td>2.0</td>\n",
       "      <td>369079.0</td>\n",
       "      <td>2</td>\n",
       "      <td>2</td>\n",
       "      <td>3</td>\n",
       "      <td>3.0</td>\n",
       "      <td>2</td>\n",
       "    </tr>\n",
       "    <tr>\n",
       "      <th>8</th>\n",
       "      <td>396</td>\n",
       "      <td>8.0</td>\n",
       "      <td>11.0</td>\n",
       "      <td>3</td>\n",
       "      <td>3</td>\n",
       "      <td>2</td>\n",
       "      <td>1</td>\n",
       "      <td>4</td>\n",
       "      <td>1</td>\n",
       "      <td>3.0</td>\n",
       "      <td>0</td>\n",
       "      <td>20916.0</td>\n",
       "      <td>1</td>\n",
       "      <td>1.0</td>\n",
       "      <td>405143.0</td>\n",
       "      <td>2</td>\n",
       "      <td>1</td>\n",
       "      <td>1</td>\n",
       "      <td>4.0</td>\n",
       "      <td>2</td>\n",
       "    </tr>\n",
       "  </tbody>\n",
       "</table>\n",
       "</div>"
      ],
      "text/plain": [
       "   AgentBonus   Age  CustTenure Channel Occupation  EducationField Gender  \\\n",
       "0        1414  22.0         4.0       3          3               2      0   \n",
       "1         124  11.0         2.0       1          3               2      1   \n",
       "6        1076  12.0        23.0       3          3               2      1   \n",
       "7          58   6.0         4.0       3          2               1      0   \n",
       "8         396   8.0        11.0       3          3               2      1   \n",
       "\n",
       "   ExistingProdType Designation  NumberOfPolicy MaritalStatus  MonthlyIncome  \\\n",
       "0                 3           1             2.0             0        20993.0   \n",
       "1                 4           1             4.0             0        20130.0   \n",
       "6                 4           2             3.0             0        34999.0   \n",
       "7                 3           2             4.0             0        17279.0   \n",
       "8                 4           1             3.0             0        20916.0   \n",
       "\n",
       "   Complaint  ExistingPolicyTenure  SumAssured Zone PaymentMethod  \\\n",
       "0          1                   2.0    806761.0    1             2   \n",
       "1          0                   3.0    294502.0    1             1   \n",
       "6          0                   2.0    392689.0    1             1   \n",
       "7          0                   2.0    369079.0    2             2   \n",
       "8          1                   1.0    405143.0    2             1   \n",
       "\n",
       "   LastMonthCalls  CustCareScore  Channel_encoded  \n",
       "0               5            2.0                2  \n",
       "1               7            3.0                0  \n",
       "6               9            2.0                2  \n",
       "7               3            3.0                2  \n",
       "8               1            4.0                2  "
      ]
     },
     "execution_count": 35,
     "metadata": {},
     "output_type": "execute_result"
    }
   ],
   "source": [
    "df['AgentBonus'] = LE.fit_transform(df['AgentBonus'])\n",
    "df.head()"
   ]
  },
  {
   "cell_type": "code",
   "execution_count": 36,
   "id": "726c6079",
   "metadata": {},
   "outputs": [
    {
     "name": "stderr",
     "output_type": "stream",
     "text": [
      "/Users/rr/opt/anaconda3/lib/python3.9/site-packages/pandas/core/algorithms.py:798: FutureWarning: In a future version, the Index constructor will not infer numeric dtypes when passed object-dtype sequences (matching Series behavior)\n",
      "  uniques = Index(uniques)\n"
     ]
    },
    {
     "data": {
      "text/html": [
       "<div>\n",
       "<style scoped>\n",
       "    .dataframe tbody tr th:only-of-type {\n",
       "        vertical-align: middle;\n",
       "    }\n",
       "\n",
       "    .dataframe tbody tr th {\n",
       "        vertical-align: top;\n",
       "    }\n",
       "\n",
       "    .dataframe thead th {\n",
       "        text-align: right;\n",
       "    }\n",
       "</style>\n",
       "<table border=\"1\" class=\"dataframe\">\n",
       "  <thead>\n",
       "    <tr style=\"text-align: right;\">\n",
       "      <th></th>\n",
       "      <th>AgentBonus</th>\n",
       "      <th>Age</th>\n",
       "      <th>CustTenure</th>\n",
       "      <th>EducationField</th>\n",
       "      <th>ExistingProdType</th>\n",
       "      <th>NumberOfPolicy</th>\n",
       "      <th>MonthlyIncome</th>\n",
       "      <th>Complaint</th>\n",
       "      <th>ExistingPolicyTenure</th>\n",
       "      <th>SumAssured</th>\n",
       "      <th>...</th>\n",
       "      <th>Designation_2</th>\n",
       "      <th>Designation_3</th>\n",
       "      <th>Designation_4</th>\n",
       "      <th>MaritalStatus_1</th>\n",
       "      <th>Zone_2</th>\n",
       "      <th>Zone_3</th>\n",
       "      <th>Zone_4</th>\n",
       "      <th>PaymentMethod_2</th>\n",
       "      <th>PaymentMethod_4</th>\n",
       "      <th>PaymentMethod_12</th>\n",
       "    </tr>\n",
       "  </thead>\n",
       "  <tbody>\n",
       "    <tr>\n",
       "      <th>0</th>\n",
       "      <td>1414</td>\n",
       "      <td>22.0</td>\n",
       "      <td>4.0</td>\n",
       "      <td>2</td>\n",
       "      <td>3</td>\n",
       "      <td>2.0</td>\n",
       "      <td>20993.0</td>\n",
       "      <td>1</td>\n",
       "      <td>2.0</td>\n",
       "      <td>806761.0</td>\n",
       "      <td>...</td>\n",
       "      <td>0</td>\n",
       "      <td>0</td>\n",
       "      <td>0</td>\n",
       "      <td>0</td>\n",
       "      <td>0</td>\n",
       "      <td>0</td>\n",
       "      <td>0</td>\n",
       "      <td>1</td>\n",
       "      <td>0</td>\n",
       "      <td>0</td>\n",
       "    </tr>\n",
       "    <tr>\n",
       "      <th>1</th>\n",
       "      <td>124</td>\n",
       "      <td>11.0</td>\n",
       "      <td>2.0</td>\n",
       "      <td>2</td>\n",
       "      <td>4</td>\n",
       "      <td>4.0</td>\n",
       "      <td>20130.0</td>\n",
       "      <td>0</td>\n",
       "      <td>3.0</td>\n",
       "      <td>294502.0</td>\n",
       "      <td>...</td>\n",
       "      <td>0</td>\n",
       "      <td>0</td>\n",
       "      <td>0</td>\n",
       "      <td>0</td>\n",
       "      <td>0</td>\n",
       "      <td>0</td>\n",
       "      <td>0</td>\n",
       "      <td>0</td>\n",
       "      <td>0</td>\n",
       "      <td>0</td>\n",
       "    </tr>\n",
       "    <tr>\n",
       "      <th>6</th>\n",
       "      <td>1076</td>\n",
       "      <td>12.0</td>\n",
       "      <td>23.0</td>\n",
       "      <td>2</td>\n",
       "      <td>4</td>\n",
       "      <td>3.0</td>\n",
       "      <td>34999.0</td>\n",
       "      <td>0</td>\n",
       "      <td>2.0</td>\n",
       "      <td>392689.0</td>\n",
       "      <td>...</td>\n",
       "      <td>1</td>\n",
       "      <td>0</td>\n",
       "      <td>0</td>\n",
       "      <td>0</td>\n",
       "      <td>0</td>\n",
       "      <td>0</td>\n",
       "      <td>0</td>\n",
       "      <td>0</td>\n",
       "      <td>0</td>\n",
       "      <td>0</td>\n",
       "    </tr>\n",
       "    <tr>\n",
       "      <th>7</th>\n",
       "      <td>58</td>\n",
       "      <td>6.0</td>\n",
       "      <td>4.0</td>\n",
       "      <td>1</td>\n",
       "      <td>3</td>\n",
       "      <td>4.0</td>\n",
       "      <td>17279.0</td>\n",
       "      <td>0</td>\n",
       "      <td>2.0</td>\n",
       "      <td>369079.0</td>\n",
       "      <td>...</td>\n",
       "      <td>1</td>\n",
       "      <td>0</td>\n",
       "      <td>0</td>\n",
       "      <td>0</td>\n",
       "      <td>1</td>\n",
       "      <td>0</td>\n",
       "      <td>0</td>\n",
       "      <td>1</td>\n",
       "      <td>0</td>\n",
       "      <td>0</td>\n",
       "    </tr>\n",
       "    <tr>\n",
       "      <th>8</th>\n",
       "      <td>396</td>\n",
       "      <td>8.0</td>\n",
       "      <td>11.0</td>\n",
       "      <td>2</td>\n",
       "      <td>4</td>\n",
       "      <td>3.0</td>\n",
       "      <td>20916.0</td>\n",
       "      <td>1</td>\n",
       "      <td>1.0</td>\n",
       "      <td>405143.0</td>\n",
       "      <td>...</td>\n",
       "      <td>0</td>\n",
       "      <td>0</td>\n",
       "      <td>0</td>\n",
       "      <td>0</td>\n",
       "      <td>1</td>\n",
       "      <td>0</td>\n",
       "      <td>0</td>\n",
       "      <td>0</td>\n",
       "      <td>0</td>\n",
       "      <td>0</td>\n",
       "    </tr>\n",
       "  </tbody>\n",
       "</table>\n",
       "<p>5 rows × 29 columns</p>\n",
       "</div>"
      ],
      "text/plain": [
       "   AgentBonus   Age  CustTenure  EducationField  ExistingProdType  \\\n",
       "0        1414  22.0         4.0               2                 3   \n",
       "1         124  11.0         2.0               2                 4   \n",
       "6        1076  12.0        23.0               2                 4   \n",
       "7          58   6.0         4.0               1                 3   \n",
       "8         396   8.0        11.0               2                 4   \n",
       "\n",
       "   NumberOfPolicy  MonthlyIncome  Complaint  ExistingPolicyTenure  SumAssured  \\\n",
       "0             2.0        20993.0          1                   2.0    806761.0   \n",
       "1             4.0        20130.0          0                   3.0    294502.0   \n",
       "6             3.0        34999.0          0                   2.0    392689.0   \n",
       "7             4.0        17279.0          0                   2.0    369079.0   \n",
       "8             3.0        20916.0          1                   1.0    405143.0   \n",
       "\n",
       "   ...  Designation_2  Designation_3  Designation_4  MaritalStatus_1  Zone_2  \\\n",
       "0  ...              0              0              0                0       0   \n",
       "1  ...              0              0              0                0       0   \n",
       "6  ...              1              0              0                0       0   \n",
       "7  ...              1              0              0                0       1   \n",
       "8  ...              0              0              0                0       1   \n",
       "\n",
       "   Zone_3  Zone_4  PaymentMethod_2  PaymentMethod_4  PaymentMethod_12  \n",
       "0       0       0                1                0                 0  \n",
       "1       0       0                0                0                 0  \n",
       "6       0       0                0                0                 0  \n",
       "7       0       0                1                0                 0  \n",
       "8       0       0                0                0                 0  \n",
       "\n",
       "[5 rows x 29 columns]"
      ]
     },
     "execution_count": 36,
     "metadata": {},
     "output_type": "execute_result"
    }
   ],
   "source": [
    "df_dummy = pd.get_dummies(df,drop_first=True)\n",
    "df_dummy.head()"
   ]
  },
  {
   "cell_type": "code",
   "execution_count": 37,
   "id": "81c35018",
   "metadata": {},
   "outputs": [
    {
     "data": {
      "text/plain": [
       "0.6913311570547697"
      ]
     },
     "execution_count": 37,
     "metadata": {},
     "output_type": "execute_result"
    }
   ],
   "source": [
    "classifier.score(X_train,y_train)"
   ]
  },
  {
   "cell_type": "code",
   "execution_count": 38,
   "id": "ae03cf87",
   "metadata": {},
   "outputs": [
    {
     "data": {
      "text/plain": [
       "2    1697\n",
       "1    1075\n",
       "3     675\n",
       "Name: EducationField, dtype: int64"
      ]
     },
     "execution_count": 38,
     "metadata": {},
     "output_type": "execute_result"
    }
   ],
   "source": [
    "df['EducationField'].value_counts()"
   ]
  },
  {
   "cell_type": "code",
   "execution_count": 39,
   "id": "9fa7d6cc",
   "metadata": {},
   "outputs": [
    {
     "data": {
      "text/plain": [
       "Age                     22.0\n",
       "MonthlyIncome        20993.0\n",
       "SumAssured          806761.0\n",
       "Gender                     0\n",
       "Channel                    3\n",
       "LastMonthCalls             5\n",
       "ExistingProdType           3\n",
       "Occupation                 3\n",
       "Complaint                  1\n",
       "PaymentMethod              2\n",
       "Designation                1\n",
       "EducationField             2\n",
       "Zone                       1\n",
       "NumberOfPolicy           2.0\n",
       "MaritalStatus              0\n",
       "CustTenure               4.0\n",
       "Channel_encoded            2\n",
       "Name: 0, dtype: object"
      ]
     },
     "execution_count": 39,
     "metadata": {},
     "output_type": "execute_result"
    }
   ],
   "source": [
    "X.iloc[0,:]"
   ]
  },
  {
   "cell_type": "markdown",
   "id": "e82a7002",
   "metadata": {},
   "source": [
    "### Predicting the result"
   ]
  },
  {
   "cell_type": "code",
   "execution_count": 40,
   "id": "e364b250",
   "metadata": {},
   "outputs": [
    {
     "data": {
      "text/plain": [
       "array([7214])"
      ]
     },
     "execution_count": 40,
     "metadata": {},
     "output_type": "execute_result"
    }
   ],
   "source": [
    "classifier.predict([[22,20993,806761,0,3,5,3,2,1,1,2,1,2,2,0,4,2]])"
   ]
  },
  {
   "cell_type": "markdown",
   "id": "3d56699e",
   "metadata": {},
   "source": [
    "Checks the efficiency of the estimator"
   ]
  },
  {
   "cell_type": "code",
   "execution_count": 41,
   "id": "8f96724f",
   "metadata": {},
   "outputs": [
    {
     "data": {
      "text/plain": [
       "0.6913311570547697"
      ]
     },
     "execution_count": 41,
     "metadata": {},
     "output_type": "execute_result"
    }
   ],
   "source": [
    "classifier.score(X_train,y_train)"
   ]
  },
  {
   "cell_type": "code",
   "execution_count": null,
   "id": "97622b3c",
   "metadata": {},
   "outputs": [],
   "source": []
  }
 ],
 "metadata": {
  "kernelspec": {
   "display_name": "Python 3 (ipykernel)",
   "language": "python",
   "name": "python3"
  },
  "language_info": {
   "codemirror_mode": {
    "name": "ipython",
    "version": 3
   },
   "file_extension": ".py",
   "mimetype": "text/x-python",
   "name": "python",
   "nbconvert_exporter": "python",
   "pygments_lexer": "ipython3",
   "version": "3.9.13"
  }
 },
 "nbformat": 4,
 "nbformat_minor": 5
}
