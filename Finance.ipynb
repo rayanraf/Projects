{
 "cells": [
  {
   "cell_type": "code",
   "execution_count": 1,
   "id": "ed022f60",
   "metadata": {},
   "outputs": [],
   "source": [
    "from tkinter import *\n",
    "import csv\n",
    "\n",
    "\n",
    "def add():\n",
    "    pass\n",
    "\n",
    "def remove_exp():\n",
    "    pass\n",
    "\n",
    "def disp():\n",
    "    pass\n",
    "\n",
    "def upd_budget():\n",
    "    pass\n",
    "\n",
    "def ext():\n",
    "    root.destroy()\n",
    "\n",
    "\n",
    "root=Tk()\n",
    "\n",
    "add_exp=Button(root,text=\"Add Expense\",bg=\"#54FA9B\",fg=\"white\",height=5,width=25,command=add).grid(row=1,column=1)\n",
    "rem_exp=Button(root,text=\"Remove Expense\",bg=\"black\",fg=\"white\",height=5,width=25,command=remove_exp).grid(row=2,column=1)\n",
    "display=Button(root,text=\"Add Expense\",bg=\"black\",fg=\"white\",height=5,width=25,command=disp).grid(row=3,column=1)\n",
    "budg=Button(root,text=\"Update Budget\",bg=\"black\",fg=\"white\",height=5,width=25,command=upd_budget).grid(row=4,column=1)\n",
    "ext=Button(root,text=\"Exit\",bg=\"black\",fg=\"white\",height=5,width=25,command=ext).grid(row=5,column=1)\n",
    "\n",
    "root.mainloop()"
   ]
  },
  {
   "cell_type": "code",
   "execution_count": null,
   "id": "34509267",
   "metadata": {},
   "outputs": [],
   "source": []
  }
 ],
 "metadata": {
  "kernelspec": {
   "display_name": "Python 3 (ipykernel)",
   "language": "python",
   "name": "python3"
  },
  "language_info": {
   "codemirror_mode": {
    "name": "ipython",
    "version": 3
   },
   "file_extension": ".py",
   "mimetype": "text/x-python",
   "name": "python",
   "nbconvert_exporter": "python",
   "pygments_lexer": "ipython3",
   "version": "3.9.13"
  }
 },
 "nbformat": 4,
 "nbformat_minor": 5
}
